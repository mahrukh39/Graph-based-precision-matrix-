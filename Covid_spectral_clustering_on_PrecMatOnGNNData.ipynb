{
  "nbformat": 4,
  "nbformat_minor": 0,
  "metadata": {
    "colab": {
      "provenance": []
    },
    "kernelspec": {
      "name": "python3",
      "display_name": "Python 3"
    },
    "language_info": {
      "name": "python"
    }
  },
  "cells": [
    {
      "cell_type": "code",
      "execution_count": null,
      "metadata": {
        "id": "BT_CaLpSRZcK"
      },
      "outputs": [],
      "source": [
        "#!pip install karateclub"
      ]
    },
    {
      "cell_type": "code",
      "execution_count": null,
      "metadata": {
        "id": "qo0xFzNbg8z1"
      },
      "outputs": [],
      "source": [
        "import torch\n",
        "torch.cuda.is_available()  # Returns True if a GPU is available\n",
        "device = torch.device(\"cuda\" if torch.cuda.is_available() else \"cpu\")\n",
        "#tensor = tensor.to(device)"
      ]
    },
    {
      "cell_type": "code",
      "execution_count": null,
      "metadata": {
        "colab": {
          "base_uri": "https://localhost:8080/"
        },
        "id": "rfkgSen_64Yy",
        "outputId": "11991f99-9677-4a2f-9d70-5430bb368e6a"
      },
      "outputs": [
        {
          "output_type": "stream",
          "name": "stdout",
          "text": [
            "2.6.0+cu124\n",
            "  Installing build dependencies ... \u001b[?25l\u001b[?25hdone\n",
            "  Getting requirements to build wheel ... \u001b[?25l\u001b[?25hdone\n",
            "  Preparing metadata (pyproject.toml) ... \u001b[?25l\u001b[?25hdone\n"
          ]
        }
      ],
      "source": [
        "#website link\n",
        "#https://colab.research.google.com/drive/14OvFnAXggxB8vM4e8vSURUp1TaKnovzX?usp=sharing#scrollTo=pcr9joFQ6Mri\n",
        "# Install required packages.\n",
        "import os\n",
        "import torch\n",
        "os.environ['TORCH'] = torch.__version__\n",
        "print(torch.__version__)\n",
        "\n",
        "!pip install -q torch-scatter -f https://data.pyg.org/whl/torch-${TORCH}.html\n",
        "!pip install -q torch-sparse -f https://data.pyg.org/whl/torch-${TORCH}.html\n",
        "!pip install -q torch-cluster -f https://data.pyg.org/whl/torch-${TORCH}.html\n",
        "!pip install -q git+https://github.com/pyg-team/pytorch_geometric.git\n",
        "\n",
        "# Helper function for visualization.\n",
        "%matplotlib inline\n",
        "import matplotlib.pyplot as plt\n",
        "from sklearn.manifold import TSNE\n",
        "\n",
        "def visualize(h, color):\n",
        "    z = TSNE(n_components=2).fit_transform(h.detach().cpu().numpy())\n",
        "\n",
        "    plt.figure(figsize=(10,10))\n",
        "    plt.xticks([])\n",
        "    plt.yticks([])\n",
        "\n",
        "    plt.scatter(z[:, 0], z[:, 1], s=70, c=color, cmap=\"Set2\")\n",
        "    plt.show()"
      ]
    },
    {
      "cell_type": "code",
      "execution_count": null,
      "metadata": {
        "colab": {
          "base_uri": "https://localhost:8080/"
        },
        "id": "ADUF-DyO2KiH",
        "outputId": "8f0bb26c-e725-4970-f0fb-a31e29593150"
      },
      "outputs": [
        {
          "output_type": "stream",
          "name": "stdout",
          "text": [
            "Requirement already satisfied: torch-geometric in /usr/local/lib/python3.11/dist-packages (2.7.0)\n",
            "Requirement already satisfied: aiohttp in /usr/local/lib/python3.11/dist-packages (from torch-geometric) (3.12.14)\n",
            "Requirement already satisfied: fsspec in /usr/local/lib/python3.11/dist-packages (from torch-geometric) (2025.3.0)\n",
            "Requirement already satisfied: jinja2 in /usr/local/lib/python3.11/dist-packages (from torch-geometric) (3.1.6)\n",
            "Requirement already satisfied: numpy in /usr/local/lib/python3.11/dist-packages (from torch-geometric) (2.0.2)\n",
            "Requirement already satisfied: psutil>=5.8.0 in /usr/local/lib/python3.11/dist-packages (from torch-geometric) (5.9.5)\n",
            "Requirement already satisfied: pyparsing in /usr/local/lib/python3.11/dist-packages (from torch-geometric) (3.2.3)\n",
            "Requirement already satisfied: requests in /usr/local/lib/python3.11/dist-packages (from torch-geometric) (2.32.3)\n",
            "Requirement already satisfied: tqdm in /usr/local/lib/python3.11/dist-packages (from torch-geometric) (4.67.1)\n",
            "Requirement already satisfied: xxhash in /usr/local/lib/python3.11/dist-packages (from torch-geometric) (3.5.0)\n",
            "Requirement already satisfied: aiohappyeyeballs>=2.5.0 in /usr/local/lib/python3.11/dist-packages (from aiohttp->torch-geometric) (2.6.1)\n",
            "Requirement already satisfied: aiosignal>=1.4.0 in /usr/local/lib/python3.11/dist-packages (from aiohttp->torch-geometric) (1.4.0)\n",
            "Requirement already satisfied: attrs>=17.3.0 in /usr/local/lib/python3.11/dist-packages (from aiohttp->torch-geometric) (25.3.0)\n",
            "Requirement already satisfied: frozenlist>=1.1.1 in /usr/local/lib/python3.11/dist-packages (from aiohttp->torch-geometric) (1.7.0)\n",
            "Requirement already satisfied: multidict<7.0,>=4.5 in /usr/local/lib/python3.11/dist-packages (from aiohttp->torch-geometric) (6.6.3)\n",
            "Requirement already satisfied: propcache>=0.2.0 in /usr/local/lib/python3.11/dist-packages (from aiohttp->torch-geometric) (0.3.2)\n",
            "Requirement already satisfied: yarl<2.0,>=1.17.0 in /usr/local/lib/python3.11/dist-packages (from aiohttp->torch-geometric) (1.20.1)\n",
            "Requirement already satisfied: MarkupSafe>=2.0 in /usr/local/lib/python3.11/dist-packages (from jinja2->torch-geometric) (3.0.2)\n",
            "Requirement already satisfied: charset-normalizer<4,>=2 in /usr/local/lib/python3.11/dist-packages (from requests->torch-geometric) (3.4.2)\n",
            "Requirement already satisfied: idna<4,>=2.5 in /usr/local/lib/python3.11/dist-packages (from requests->torch-geometric) (3.10)\n",
            "Requirement already satisfied: urllib3<3,>=1.21.1 in /usr/local/lib/python3.11/dist-packages (from requests->torch-geometric) (2.5.0)\n",
            "Requirement already satisfied: certifi>=2017.4.17 in /usr/local/lib/python3.11/dist-packages (from requests->torch-geometric) (2025.7.14)\n",
            "Requirement already satisfied: typing-extensions>=4.2 in /usr/local/lib/python3.11/dist-packages (from aiosignal>=1.4.0->aiohttp->torch-geometric) (4.14.1)\n"
          ]
        }
      ],
      "source": [
        "#!pip install torch-geometric torch-sparse torch-scatter # Install necessary libraries\n",
        "#!pip install torch-cluster\n",
        "!pip install torch-geometric\n",
        "#!pip install torch-geometric-temporal\n",
        "import torch\n",
        "#from torch_geometric.nn import knn_graph\n",
        "from torch_cluster import knn_graph\n",
        "# Assuming you have a feature matrix X\n",
        "x = torch.randn(100, 64)  # 100 nodes, 64 features\n",
        "\n",
        "# Create a k-nearest neighbor graph\n",
        "edge_index = knn_graph(x, k=10)\n"
      ]
    },
    {
      "cell_type": "code",
      "source": [
        "!pip install -U imbalanced-learn"
      ],
      "metadata": {
        "colab": {
          "base_uri": "https://localhost:8080/"
        },
        "id": "LkAquwF_vXoC",
        "outputId": "6b270c82-82c4-4f56-c17f-88320c99870a"
      },
      "execution_count": null,
      "outputs": [
        {
          "output_type": "stream",
          "name": "stdout",
          "text": [
            "Requirement already satisfied: imbalanced-learn in /usr/local/lib/python3.11/dist-packages (0.13.0)\n",
            "Requirement already satisfied: numpy<3,>=1.24.3 in /usr/local/lib/python3.11/dist-packages (from imbalanced-learn) (2.0.2)\n",
            "Requirement already satisfied: scipy<2,>=1.10.1 in /usr/local/lib/python3.11/dist-packages (from imbalanced-learn) (1.16.0)\n",
            "Requirement already satisfied: scikit-learn<2,>=1.3.2 in /usr/local/lib/python3.11/dist-packages (from imbalanced-learn) (1.6.1)\n",
            "Requirement already satisfied: sklearn-compat<1,>=0.1 in /usr/local/lib/python3.11/dist-packages (from imbalanced-learn) (0.1.3)\n",
            "Requirement already satisfied: joblib<2,>=1.1.1 in /usr/local/lib/python3.11/dist-packages (from imbalanced-learn) (1.5.1)\n",
            "Requirement already satisfied: threadpoolctl<4,>=2.0.0 in /usr/local/lib/python3.11/dist-packages (from imbalanced-learn) (3.6.0)\n"
          ]
        }
      ]
    },
    {
      "cell_type": "code",
      "execution_count": null,
      "metadata": {
        "id": "t-FpgXIIR0kd"
      },
      "outputs": [],
      "source": [
        "# Import necessary libraries\n",
        "import pandas as pd\n",
        "import warnings\n",
        "warnings.filterwarnings(\"ignore\")\n",
        "import numpy as np\n",
        "import matplotlib.pyplot as plt\n",
        "import torch\n",
        "import torch.optim as optim\n",
        "from sklearn.datasets import load_digits\n",
        "from sklearn.model_selection import train_test_split\n",
        "from sklearn.preprocessing import StandardScaler\n",
        "from sklearn.cluster import KMeans,SpectralClustering\n",
        "from sklearn.metrics import accuracy_score\n",
        "from torch.utils.data import DataLoader, TensorDataset\n",
        "from imblearn.over_sampling import RandomOverSampler, SMOTE, ADASYN # ... or any other desired oversampling techniques"
      ]
    },
    {
      "cell_type": "code",
      "execution_count": null,
      "metadata": {
        "id": "FfzECO-W7d-P"
      },
      "outputs": [],
      "source": [
        "from sklearn.metrics import precision_recall_curve, roc_curve, f1_score, accuracy_score\n",
        "import numpy as np\n",
        "\n",
        "\n",
        "def compute_threshold(y_true, y_scores):\n",
        "  # Assume `y_true` is the true labels and `y_scores` are the predicted probabilities\n",
        "  #thresholds = np.linspace(0, 1, 100)\n",
        "  #best_threshold = 0\n",
        "  thresholds = np.linspace(0, 1, 100)\n",
        "  best_threshold = 0\n",
        "  best_f1 = 0\n",
        "\n",
        "  for threshold in thresholds:\n",
        "    y_approx = (y_scores >= threshold).astype(int)\n",
        "    f1 = f1_score(y_true, y_approx)\n",
        "    if f1 > best_f1:\n",
        "        best_f1 = f1\n",
        "        best_threshold = threshold\n",
        "\n",
        "  #print(f\"Best threshold: {best_threshold}, Best F1 Score: {best_f1}\")\n",
        "  return best_threshold,best_f1\n",
        "\n",
        "def compute_acc_threshold(y_true, y_scores):\n",
        "  # Assume `y_true` is the true labels and `y_scores` are the predicted probabilities\n",
        "  #thresholds = np.linspace(0, 1, 100)\n",
        "  #best_threshold = 0\n",
        "  thresholds = np.linspace(0, 1, 100)\n",
        "  best_threshold = 0\n",
        "  best_acc = 0\n",
        "\n",
        "  for threshold in thresholds:\n",
        "    y_approx = (y_scores >= threshold).astype(int)\n",
        "    acc = accuracy_score(y_true, y_approx)\n",
        "    if acc > best_acc:\n",
        "        best_acc = acc\n",
        "        best_threshold = threshold\n",
        "\n",
        "  #print(f\"Best threshold: {best_threshold}, Best F1 Score: {best_f1}\")\n",
        "  return best_threshold,best_acc\n",
        "\n",
        "def compute_precision_recall(y_true, y_scores):\n",
        "    # Compute precision, recall, and thresholds\n",
        "    precisions, recalls, thresholds = precision_recall_curve(y_true, y_scores)\n",
        "    idx_max_precision = np.argmax(precisions[:-1])  # Exclude last point where threshold=1\n",
        "    best_threshold_for_precision = thresholds[idx_max_precision]\n",
        "    #print(f\"Threshold for max precision: {best_threshold_for_precision}, Precision: {precisions[idx_max_precision]}\")\n",
        "    idx_max_recall = np.argmax(recalls[:-1])\n",
        "    best_threshold_for_recall = thresholds[idx_max_recall]\n",
        "    #print(f\"Threshold for max recall: {best_threshold_for_recall}, Recall: {recalls[idx_max_recall]}\")\n",
        "    return best_threshold_for_precision,best_threshold_for_recall\n",
        "\n",
        "\n"
      ]
    },
    {
      "cell_type": "code",
      "execution_count": null,
      "metadata": {
        "id": "lm0yk-Ax7qD3"
      },
      "outputs": [],
      "source": [
        "def threshold_option(y_true,y_approx,option):\n",
        "  if option==0:\n",
        "    th=0.5\n",
        "\n",
        "  elif option==1:\n",
        "\n",
        "    #th,best_acc=compute_acc_threshold(y_true, y_approx)\n",
        "    th,f1=compute_threshold(y_true, y_approx)\n",
        "\n",
        "  elif option==2:\n",
        "    presicion_th,th=compute_precision_recall(y_true, y_approx)\n",
        "    #th contains recall threshold\n",
        "  else:\n",
        "    th,recall_threshold=compute_precision_recall(y_true, y_approx)\n",
        "    #th contains precesion threshold\n",
        "  return th\n",
        "\n",
        "def binary_predictions(predictions,threshold):\n",
        "    return np.where(predictions > threshold, 1, 0)\n",
        "\n",
        "\n"
      ]
    },
    {
      "cell_type": "code",
      "execution_count": null,
      "metadata": {
        "id": "SVT52syMNOvc"
      },
      "outputs": [],
      "source": [
        "import torch\n",
        "import torch.nn as nn\n",
        "from torch.optim import Adam\n",
        "class GCAdam(Adam):\n",
        "    def __init__(self, params, lr=1e-3, betas=(0.9, 0.999), eps=1e-8, weight_decay=0, gc_conv_only=False):\n",
        "        super(GCAdam,self).__init__(params, lr=lr, betas=betas, eps=eps, weight_decay=weight_decay)\n",
        "        self.gc_conv_only = gc_conv_only\n",
        "\n",
        "    def step(self, closure=None):\n",
        "        loss = None\n",
        "        if closure is not None:\n",
        "            loss = closure()\n",
        "\n",
        "        for group in self.param_groups:\n",
        "            for param in group['params']:\n",
        "                if param.grad is None:\n",
        "                    continue\n",
        "\n",
        "                # Gradient Centralization\n",
        "                grad = param.grad.data\n",
        "                if not self.gc_conv_only or grad.dim() > 1:\n",
        "                    grad.add_(-grad.mean(dim=tuple(range(1, grad.dim())), keepdim=True))\n",
        "\n",
        "        super(GCAdam, self).step(closure)\n",
        "\n",
        "class GaussianRBFNetworkC(nn.Module):\n",
        "    def __init__(self, gaussian_regularizer, centers_regularizer, weights_regularizer, learnable_centers,\n",
        "                 centers, device='cuda'):\n",
        "        super(GaussianRBFNetworkC, self).__init__()\n",
        "\n",
        "        self.device = device\n",
        "        self.gaussian_regularizer = gaussian_regularizer\n",
        "        self.centers_regularizer = centers_regularizer\n",
        "        self.weights_regularizer = weights_regularizer\n",
        "        self.centers = centers\n",
        "        self.learnable_centers = learnable_centers\n",
        "        self.n_centers = centers.shape[0]\n",
        "        self.n_features = centers.shape[1]\n",
        "        # Define learnable parameters\n",
        "        self.precision_elements = nn.Parameter(torch.randn(self.n_features * (self.n_features + 1) // 2)\n",
        "                                               .to(self.device))\n",
        "        if self.learnable_centers == True:\n",
        "            self.centers = nn.Parameter(centers.to(self.device))\n",
        "        else:\n",
        "            self.centers_regularizer = 1e-32\n",
        "        self.weights = nn.Parameter(torch.randn(self.n_centers)\n",
        "                                    .to(self.device))\n",
        "\n",
        "    def compute_precision(self, precision_elements):\n",
        "\n",
        "        lower_tri = torch.zeros((self.n_features, self.n_features)).to(self.device)\n",
        "        idx = torch.tril_indices(*lower_tri.shape)\n",
        "        lower_tri[idx[0], idx[1]] = precision_elements\n",
        "        precision_matrix = torch.matmul(lower_tri, lower_tri.T)\n",
        "        return precision_matrix\n",
        "\n",
        "    def forward(self, X):\n",
        "\n",
        "        precision_matrix = self.compute_precision(self.precision_elements)\n",
        "        diff = X[:, None, :] - self.centers.unsqueeze(0)\n",
        "\n",
        "\n",
        "\n",
        "        Phi = torch.exp(-0.5 * torch.einsum('ijk, kl, ijl -> ij', diff, precision_matrix, diff))\n",
        "\n",
        "        #self.bn = nn.BatchNorm1d(Phi)  # Initialize BatchNorm1d layer\n",
        "        #y_hat = torch.relu(torch.batch_norm(input= Phi , weights= self.weights,bias=None,running_mean=None,running_var=None,training=False,momentum=0.001,eps=0.0000001,cudnn_enabled=False))\n",
        "        '''y_hat = torch.relu(torch.nn.functional.batch_norm(input=Phi, running_mean=torch.zeros(Phi.shape[1], device=self.device),\n",
        "                                                         running_var=torch.ones(Phi.shape[1], device=self.device),\n",
        "                                                          weight=self.weights,bias=None, training=False, momentum=0.1, eps=1e-05)) # shape (batch_size,)'''\n",
        "        '''variance=X.var(dim=0)\n",
        "        diff=diff/variance\n",
        "        y_hat = torch.relu(torch.nn.functional.batch_norm(input=Phi, running_mean=diff,\n",
        "                                                         running_var=variance[None,:],\n",
        "                                                          weight=self.weights,bias=None, training=False, momentum=0.1, eps=1e-05)) # shape (batch_size,)'''\n",
        "\n",
        "        y_hat = torch.sigmoid(Phi @ self.weights)\n",
        "        #y_hat=torch.tanh(Phi @ self.weights)\n",
        "        #y_hat = min(torch.relu(Phi @ self.weights)*torch.sigmoid(Phi @ self.weights),1)\n",
        "        #y_hat=torch.sigmoid(y_hat)\n",
        "        return y_hat\n",
        "\n",
        "    def evaluate_loss(self, y, y_hat):\n",
        "\n",
        "        bce_loss = nn.BCELoss()\n",
        "        loss = bce_loss(y_hat, y)\n",
        "        reg_gaussian = self.gaussian_regularizer * torch.linalg.norm(self.precision_elements)\n",
        "        reg_centers = self.centers_regularizer * torch.linalg.norm(self.centers)\n",
        "        reg_weights = self.weights_regularizer * torch.linalg.norm(self.weights)\n",
        "        loss = loss + reg_gaussian + reg_centers + reg_weights\n",
        "        return loss\n",
        "\n",
        "    def feature_importance(self, precision_matrix):\n",
        "\n",
        "        eigenvalues, eigenvectors = torch.linalg.eigh(precision_matrix)\n",
        "        feature_importance = torch.matmul(torch.abs(eigenvectors), eigenvalues)\n",
        "        return feature_importance / torch.sum(feature_importance), eigenvalues, eigenvectors"
      ]
    },
    {
      "cell_type": "code",
      "execution_count": null,
      "metadata": {
        "id": "sKSpFZH_tys5"
      },
      "outputs": [],
      "source": [
        "class GaussianRBFNetworkCBias(nn.Module):\n",
        "    def __init__(self, gaussian_regularizer, centers_regularizer, weights_regularizer, learnable_centers,\n",
        "                 centers,bias_regularizer=1e-6, device='cuda'):\n",
        "        super(GaussianRBFNetworkCBias, self).__init__()\n",
        "\n",
        "        self.device = device\n",
        "        self.gaussian_regularizer = gaussian_regularizer\n",
        "        self.centers_regularizer = centers_regularizer\n",
        "        self.weights_regularizer = weights_regularizer\n",
        "        self.centers = centers\n",
        "        self.learnable_centers = learnable_centers\n",
        "        self.bias_regularizer = bias_regularizer\n",
        "        self.bias = nn.Parameter(torch.zeros(1).to(self.device))  # Add bias\n",
        "        self.n_centers = centers.shape[0]\n",
        "        self.n_features = centers.shape[1]\n",
        "        # Define learnable parameters\n",
        "        self.precision_elements = nn.Parameter(torch.randn(self.n_features * (self.n_features + 1) // 2)\n",
        "                                               .to(self.device))\n",
        "        if self.learnable_centers == True:\n",
        "            self.centers = nn.Parameter(centers.to(self.device))\n",
        "        else:\n",
        "            self.centers_regularizer = 1e-32\n",
        "        self.weights = nn.Parameter(torch.randn(self.n_centers)\n",
        "                                    .to(self.device))\n",
        "\n",
        "\n",
        "    def compute_precision(self, precision_elements):\n",
        "\n",
        "        lower_tri = torch.zeros((self.n_features, self.n_features)).to(self.device)\n",
        "        idx = torch.tril_indices(*lower_tri.shape)\n",
        "        lower_tri[idx[0], idx[1]] = precision_elements\n",
        "        precision_matrix = torch.matmul(lower_tri, lower_tri.T)\n",
        "        return precision_matrix\n",
        "\n",
        "    def forward(self, X):\n",
        "\n",
        "        precision_matrix = self.compute_precision(self.precision_elements)\n",
        "        diff = X[:, None, :] - self.centers.unsqueeze(0)\n",
        "\n",
        "\n",
        "\n",
        "        Phi = torch.exp(-0.5 * torch.einsum('ijk, kl, ijl -> ij', diff, precision_matrix, diff))\n",
        "\n",
        "        #self.bn = nn.BatchNorm1d(Phi)  # Initialize BatchNorm1d layer\n",
        "        #y_hat = torch.relu(torch.batch_norm(input= Phi , weights= self.weights,bias=None,running_mean=None,running_var=None,training=False,momentum=0.001,eps=0.0000001,cudnn_enabled=False))\n",
        "        '''y_hat = torch.relu(torch.nn.functional.batch_norm(input=Phi, running_mean=torch.zeros(Phi.shape[1], device=self.device),\n",
        "                                                         running_var=torch.ones(Phi.shape[1], device=self.device),\n",
        "                                                          weight=self.weights,bias=None, training=False, momentum=0.1, eps=1e-05)) # shape (batch_size,)'''\n",
        "        '''variance=X.var(dim=0)\n",
        "        diff=diff/variance\n",
        "        y_hat = torch.relu(torch.nn.functional.batch_norm(input=Phi, running_mean=diff,\n",
        "                                                         running_var=variance[None,:],\n",
        "                                                          weight=self.weights,bias=None, training=False, momentum=0.1, eps=1e-05)) # shape (batch_size,)'''\n",
        "\n",
        "        #y_hat = torch.sigmoid(Phi @ self.weights)\n",
        "\n",
        "        y_hat = torch.sigmoid(Phi @ self.weights + self.bias)  # Include bias\n",
        "        #y_hat=torch.tanh(Phi @ self.weights)\n",
        "        #y_hat = min(torch.relu(Phi @ self.weights)*torch.sigmoid(Phi @ self.weights),1)\n",
        "        #y_hat=torch.sigmoid(y_hat)\n",
        "        return y_hat\n",
        "\n",
        "    def evaluate_loss(self, y, y_hat):\n",
        "\n",
        "        bce_loss = nn.BCELoss()\n",
        "        loss = bce_loss(y_hat, y)\n",
        "        reg_bias = self.bias_regularizer * torch.linalg.norm(self.bias)  # Bias regularization\n",
        "        reg_gaussian = self.gaussian_regularizer * torch.linalg.norm(self.precision_elements)\n",
        "        reg_centers = self.centers_regularizer * torch.linalg.norm(self.centers)\n",
        "        reg_weights = self.weights_regularizer * torch.linalg.norm(self.weights)\n",
        "        loss = loss + reg_gaussian + reg_centers + reg_weights+reg_bias\n",
        "        return loss\n",
        "\n",
        "    def feature_importance(self, precision_matrix):\n",
        "\n",
        "        eigenvalues, eigenvectors = torch.linalg.eigh(precision_matrix)\n",
        "        feature_importance = torch.matmul(torch.abs(eigenvectors), eigenvalues)\n",
        "        return feature_importance / torch.sum(feature_importance), eigenvalues, eigenvectors"
      ]
    },
    {
      "cell_type": "code",
      "execution_count": null,
      "metadata": {
        "colab": {
          "base_uri": "https://localhost:8080/"
        },
        "id": "aKhRtzQwSlMN",
        "outputId": "6c36ad5b-e405-4074-e187-e205d3f13755"
      },
      "outputs": [
        {
          "output_type": "stream",
          "name": "stdout",
          "text": [
            "   Ind_ID  Cough_symptoms  Fever  Sore_throat  Shortness_of_breath  Headache  \\\n",
            "0       1               1      0            1                    0         0   \n",
            "1       2               0      1            0                    0         0   \n",
            "2       3               0      1            0                    0         0   \n",
            "3       4               1      0            0                    0         0   \n",
            "4       5               1      0            0                    0         0   \n",
            "\n",
            "   Known_contact  Test Date  Covid_test_result  \n",
            "0              1       2020                  0  \n",
            "1              1       2020                  1  \n",
            "2              1       2020                  1  \n",
            "3              1       2020                  0  \n",
            "4              2       2020                  0  \n",
            "   Ind_ID  Cough_symptoms  Fever  Sore_throat  Shortness_of_breath  Headache  \\\n",
            "0       1               1      0            1                    0         0   \n",
            "1       2               0      1            0                    0         0   \n",
            "2       3               0      1            0                    0         0   \n",
            "3       4               1      0            0                    0         0   \n",
            "4       5               1      0            0                    0         0   \n",
            "\n",
            "   Known_contact  Test Date  Covid_test_result  \n",
            "0              1       2020                  0  \n",
            "1              1       2020                  1  \n",
            "2              1       2020                  1  \n",
            "3              1       2020                  0  \n",
            "4              2       2020                  0  \n",
            "<class 'pandas.core.frame.DataFrame'>\n",
            "RangeIndex: 5659 entries, 0 to 5658\n",
            "Data columns (total 9 columns):\n",
            " #   Column               Non-Null Count  Dtype\n",
            "---  ------               --------------  -----\n",
            " 0   Ind_ID               5659 non-null   int64\n",
            " 1   Cough_symptoms       5659 non-null   int64\n",
            " 2   Fever                5659 non-null   int64\n",
            " 3   Sore_throat          5659 non-null   int64\n",
            " 4   Shortness_of_breath  5659 non-null   int64\n",
            " 5   Headache             5659 non-null   int64\n",
            " 6   Known_contact        5659 non-null   int64\n",
            " 7   Test Date            5659 non-null   int64\n",
            " 8   Covid_test_result    5659 non-null   int64\n",
            "dtypes: int64(9)\n",
            "memory usage: 398.0 KB\n",
            "None\n",
            "      Ind_ID  Cough_symptoms  Fever  Sore_throat  Shortness_of_breath  \\\n",
            "233      234               0      0            0                    0   \n",
            "3237    3238               0      0            0                    0   \n",
            "5297    5298               0      0            0                    0   \n",
            "4610    4611               0      0            0                    0   \n",
            "5038    5039               0      0            0                    0   \n",
            "\n",
            "      Headache  Known_contact  Test Date  \n",
            "233          0              3       2020  \n",
            "3237         0              2       2020  \n",
            "5297         0              3       2020  \n",
            "4610         0              3       2020  \n",
            "5038         0              3       2020  \n",
            "torch.Size([792, 8]) torch.Size([792])\n",
            "torch.Size([340, 8]) torch.Size([340])\n"
          ]
        }
      ],
      "source": [
        "\n",
        "\n",
        "\n",
        "#str='asthma_disease_data.csv' #vgood imbalance data\n",
        "#str='heart.csv'  #v good on heart large version\n",
        "#str='Breast_cancer_data.csv' #v good\n",
        "#str='kidney_stone_urine_analysis.csv' #not good imbalance data\n",
        "str='covid_19.csv' #good reasonable\n",
        "\n",
        "#str='blood.csv'\n",
        "#str='diabetes.csv'\n",
        "#str='MBA.csv'\n",
        "#str='loan_data.csv'\n",
        "\n",
        "#str='corona.csv' #multiclassification\n",
        "\n",
        "data=pd.read_csv(str)\n",
        "#data.drop_duplicates(inplace=True)\n",
        "# Preview the dataset\n",
        "print(data.head())\n",
        "\n",
        "\n",
        "data.isnull().sum()\n",
        "\n",
        "\n",
        "print(data.head())\n",
        "print(data.info())  # Check for missing values and data types\n",
        "#data = data.sample(frac=0.2)\n",
        "data.isna().sum()\n",
        "data.isna().sum()\n",
        "\n",
        "# Drop rows with missing values for simplicity (if applicable)\n",
        "data = data.dropna()\n",
        "#data = data.sample(frac=0.02)\n",
        "# Assume the target variable is named 'output' (1 for heart attack, 0 for no heart attack)\n",
        "# Adjust feature columns based on your dataset\n",
        "\n",
        "#X = data.drop(columns=['target'])#['output'])  # Features\n",
        "#y = data['target']#['output']  # Target variable\n",
        "if str=='asthma_disease_data.csv':\n",
        "  X=data.iloc[:,1:-1]\n",
        "elif str=='covid_19.csv':\n",
        "  data = data.sample(frac=0.2)\n",
        "  X=data.iloc[:,:-1]\n",
        "elif str=='MBA.csv' or str=='corona.csv' or str=='loan_data.csv':\n",
        "  object_cols = data.select_dtypes(include=['object']).columns\n",
        "  for col in object_cols:\n",
        "    # Use Label Encoding to convert categorical features to numerical\n",
        "    # This creates an ordinal relationship between categories\n",
        "    # If categories have no inherent order, consider One-Hot Encoding instead\n",
        "    from sklearn.preprocessing import LabelEncoder\n",
        "    label_encoder = LabelEncoder()\n",
        "    data[col] = label_encoder.fit_transform(data[col])\n",
        "  X=data.iloc[:,:-1]\n",
        "else:\n",
        "  X=data.iloc[:,:-1]\n",
        "\n",
        "y=data.iloc[:,-1]\n",
        "print(X.head())\n",
        "\n",
        "# Convert to numpy arrays\n",
        "X = X.to_numpy() #values\n",
        "y = y.to_numpy()#values\n",
        "\n",
        "\n",
        "#from imblearn.over_sampling import ADASYN\n",
        "adasyn = ADASYN(random_state=42)\n",
        "#X, y = adasyn.fit_resample(X, y)\n",
        "# Split the dataset into training and testing sets\n",
        "X_train, X_test, y_train, y_test = train_test_split(X, y, test_size=0.3, random_state=42)\n",
        "\n",
        "\n",
        "\n",
        "# Standardize the data\n",
        "scaler = StandardScaler()\n",
        "X_train_st = scaler.fit_transform(X_train)\n",
        "X_test_st = scaler.transform(X_test)\n",
        "\n",
        "# Convert data to PyTorch tensors\n",
        "X_train_st = torch.tensor(X_train_st, dtype=torch.float32)\n",
        "X_test_st = torch.tensor(X_test_st, dtype=torch.float32)\n",
        "y_train = torch.tensor(y_train, dtype=torch.float32)\n",
        "y_test = torch.tensor(y_test, dtype=torch.float32)\n",
        "\n",
        "# Check the shapes of the tensors\n",
        "print(X_train_st.shape, y_train.shape)\n",
        "print(X_test_st.shape, y_test.shape)"
      ]
    },
    {
      "cell_type": "code",
      "execution_count": null,
      "metadata": {
        "id": "OpVh1vIVYCg4"
      },
      "outputs": [],
      "source": []
    },
    {
      "cell_type": "code",
      "execution_count": null,
      "metadata": {
        "id": "KIc7VBBk-t_F"
      },
      "outputs": [],
      "source": [
        "import torch\n",
        "from torch_geometric.data import Data\n",
        "\n",
        "# Assuming you have your data as a pandas DataFrame:\n",
        "import pandas as pd\n",
        "\n",
        "# ... (load your data into a pandas DataFrame)\n",
        "\n",
        "# Extract node features and labels\n",
        "x = torch.tensor(X, dtype=torch.float32)\n",
        "\n",
        "#for binary classification y is provided in the dataset csv\n",
        "y = torch.tensor(y, dtype=torch.long)\n",
        "\n",
        "#edge_index = knn_graph(x, k=2)#k=10) #v good for heart disease dataset\n",
        "edge_index = knn_graph(x, k=2)\n",
        "\n",
        "#edge_index=torch.tensor(torch.randint(0, x.shape[0],(2,x.shape[0])))\n",
        "\n"
      ]
    },
    {
      "cell_type": "code",
      "execution_count": null,
      "metadata": {
        "id": "6fZBJ6Vrk2Mg"
      },
      "outputs": [],
      "source": [
        "import torch\n",
        "from torch_geometric.data import Data\n",
        "\n",
        "# Number of nodes\n",
        "num_nodes = x.shape[0]\n",
        "num_nodes_features=x.shape[1] # data.num_features\n",
        "\n",
        "# Edge indices (self-loops only)\n",
        "raw_edge_index = torch.arange(0, num_nodes, dtype=torch.long).repeat(2, 1)\n",
        "\n",
        "# Graph data\n",
        "data_raw = Data(x=x, edge_index=raw_edge_index,y=y)"
      ]
    },
    {
      "cell_type": "code",
      "execution_count": null,
      "metadata": {
        "colab": {
          "base_uri": "https://localhost:8080/"
        },
        "id": "Z19387OkmY36",
        "outputId": "ba480941-17b5-4c43-ae51-21a6d5e5e8af"
      },
      "outputs": [
        {
          "output_type": "stream",
          "name": "stdout",
          "text": [
            "torch.Size([2, 1132])\n",
            "torch.Size([1132, 8])\n",
            "torch.Size([1132])\n"
          ]
        }
      ],
      "source": [
        "print(raw_edge_index.shape)\n",
        "print(data_raw.x.shape)\n",
        "print(data_raw.y.shape)"
      ]
    },
    {
      "cell_type": "code",
      "execution_count": null,
      "metadata": {
        "id": "ckPjyY4koIJg"
      },
      "outputs": [],
      "source": [
        "import random\n",
        "# Create a PyG Data object\n",
        "data = Data(x=x, edge_index=edge_index, y=y)\n",
        "#data=dataset[0]\n",
        "\n",
        "num_nodes = data.num_nodes\n",
        "num_nodes_features=data.num_features\n",
        "#for binary classification\n",
        "train_mask = torch.zeros(num_nodes, dtype=torch.bool)\n",
        "test_mask =  torch.zeros(num_nodes, dtype=torch.bool)\n",
        "\n",
        "#for multilabel classification\n",
        "\n",
        "#train_mask = torch.randint(0, cl, (num_nodes,))#torch.zeros(num_nodes, dtype=torch.bool)\n",
        "#test_mask =  torch.randint(0, cl, (num_nodes,)) #torch.zeros(num_nodes, dtype=torch.bool)\n",
        "\n",
        "'''\n",
        "# Create a list of all node indices\n",
        "all_node_indices = list(range(num_nodes))\n",
        "\n",
        "# Shuffle the node indices randomly\n",
        "random.shuffle(all_node_indices)\n",
        "\n",
        "# Calculate the number of training nodes\n",
        "num_train_nodes = int(4 * num_nodes / 5)\n",
        "\n",
        "# Select the first num_train_nodes indices as training nodes\n",
        "train_node_indices = all_node_indices[:num_train_nodes]\n",
        "\n",
        "# Create the train_mask\n",
        "train_mask = torch.zeros(num_nodes, dtype=torch.bool)\n",
        "train_mask[train_node_indices] = True\n",
        "# Create the test_mask\n",
        "test_mask = ~train_mask  # Invert the train_mask'''\n",
        "#train_mask[:int(4*num_nodes/5)]= True\n",
        "#test_mask[int(4*num_nodes/5):] = True\n",
        "\n",
        "test_mask[:int(1*num_nodes/5)]= True\n",
        "train_mask=~test_mask\n",
        "\n",
        "data.train_mask = train_mask\n",
        "data.test_mask = test_mask"
      ]
    },
    {
      "cell_type": "code",
      "execution_count": null,
      "metadata": {
        "colab": {
          "base_uri": "https://localhost:8080/"
        },
        "id": "KlJuOadv0-uo",
        "outputId": "e1208a23-ce5a-4271-fde6-9a13641a9054"
      },
      "outputs": [
        {
          "output_type": "stream",
          "name": "stdout",
          "text": [
            "tensor([[2.3400e+02, 0.0000e+00, 0.0000e+00,  ..., 0.0000e+00, 3.0000e+00,\n",
            "         2.0200e+03],\n",
            "        [3.2380e+03, 0.0000e+00, 0.0000e+00,  ..., 0.0000e+00, 2.0000e+00,\n",
            "         2.0200e+03],\n",
            "        [5.2980e+03, 0.0000e+00, 0.0000e+00,  ..., 0.0000e+00, 3.0000e+00,\n",
            "         2.0200e+03],\n",
            "        ...,\n",
            "        [1.3900e+03, 0.0000e+00, 0.0000e+00,  ..., 0.0000e+00, 3.0000e+00,\n",
            "         2.0200e+03],\n",
            "        [3.7610e+03, 0.0000e+00, 0.0000e+00,  ..., 0.0000e+00, 3.0000e+00,\n",
            "         2.0200e+03],\n",
            "        [4.7420e+03, 0.0000e+00, 0.0000e+00,  ..., 0.0000e+00, 3.0000e+00,\n",
            "         2.0200e+03]])\n",
            "torch.Size([1132, 8])\n"
          ]
        }
      ],
      "source": [
        "print(data.x)\n",
        "print(data.x.shape)"
      ]
    },
    {
      "cell_type": "code",
      "execution_count": null,
      "metadata": {
        "colab": {
          "base_uri": "https://localhost:8080/",
          "height": 673
        },
        "id": "PJc3TKnEi0jj",
        "outputId": "6485b53c-d621-4191-dd08-bb6dc66ccd44"
      },
      "outputs": [
        {
          "output_type": "display_data",
          "data": {
            "text/plain": [
              "<Figure size 500x400 with 1 Axes>"
            ],
            "image/png": "[encoded data removed]"
          },
          "metadata": {}
        },
        {
          "output_type": "display_data",
          "data": {
            "text/plain": [
              "<Figure size 500x400 with 1 Axes>"
            ],
            "image/png": "[encoded data removed]"
          },
          "metadata": {}
        }
      ],
      "source": [
        "import matplotlib.pyplot as plt\n",
        "import networkx as nx\n",
        "#import torch\n",
        "import numpy as np\n",
        "from torch_geometric.utils import to_networkx\n",
        "#rand_labels=torch.randint(0, 8, (num_nodes,))\n",
        "rand_labels=torch.randint(0, 2, (num_nodes,))\n",
        "cluster_colors = ['red', 'blue', 'green', 'yellow', 'pink','orange', 'purple','brown']  # One color per cluster\n",
        "node_colors_G_randomCluster = [cluster_colors[label] for label in rand_labels ]\n",
        "\n",
        "# Create the first graph (G)\n",
        "G = to_networkx(data_raw, to_undirected=True)  # or use `to_undirected=False` for a directed graph\n",
        "node_colors = ['red' if data_raw.y[i].item() == 0 else 'blue' for i in range(num_nodes)]\n",
        "G.remove_edges_from(nx.selfloop_edges(G))\n",
        "# Now `G` is a NetworkX graph and can be used with NetworkX utilities\n",
        "# For example, you can visualize it\n",
        "plt.figure(figsize=(5, 4))\n",
        "#nx.draw(G, with_labels=False, node_color='blue', node_size=10, edge_color='gray')\n",
        "nx.draw(G, with_labels=False, node_color=node_colors, node_size=10, edge_color='gray',ax=plt.gca())\n",
        "plt.show()\n",
        "plt.figure(figsize=(5, 4))\n",
        "#nx.draw(G, with_labels=False, node_color='blue', node_size=10, edge_color='gray')\n",
        "nx.draw(G, with_labels=False, node_color=node_colors_G_randomCluster, node_size=10, edge_color='gray',ax=plt.gca())\n",
        "plt.show()\n",
        "\n",
        "\n"
      ]
    },
    {
      "cell_type": "code",
      "execution_count": null,
      "metadata": {
        "id": "5NeL5M1xssTw",
        "colab": {
          "base_uri": "https://localhost:8080/"
        },
        "outputId": "393175f8-e8e7-4c6e-af36-381c57682179"
      },
      "outputs": [
        {
          "output_type": "stream",
          "name": "stdout",
          "text": [
            "0\n"
          ]
        }
      ],
      "source": [
        "print(data.y[10].item())"
      ]
    },
    {
      "cell_type": "code",
      "execution_count": null,
      "metadata": {
        "collapsed": true,
        "id": "VP8OMPsvRERF"
      },
      "outputs": [],
      "source": [
        "import torch\n",
        "import torch.nn.functional as F\n",
        "from torch_geometric.datasets import Planetoid\n",
        "from torch_geometric.nn import GCNConv\n",
        "from torch_geometric.nn.glob import global_mean_pool\n",
        "from sklearn.cluster import KMeans\n",
        "from sklearn.metrics import adjusted_rand_score\n",
        "from sklearn.decomposition import PCA\n",
        "import matplotlib.pyplot as plt\n",
        "\n",
        "import warnings\n",
        "warnings.filterwarnings(\"ignore\")\n",
        "import numpy as np\n",
        "import matplotlib.pyplot as plt\n",
        "import torch\n",
        "import torch.optim as optim\n",
        "from sklearn.datasets import load_digits\n",
        "from sklearn.model_selection import train_test_split\n",
        "from sklearn.preprocessing import StandardScaler, LabelEncoder\n",
        "from sklearn.cluster import KMeans, SpectralClustering\n",
        "from sklearn.metrics import accuracy_score\n",
        "from torch.utils.data import DataLoader, TensorDataset\n",
        "import numpy as np\n",
        "import pandas as pd\n",
        "import matplotlib.pyplot as plt\n",
        "import seaborn as sns\n",
        "%matplotlib inline\n",
        "\n",
        "\n",
        "\n",
        "# Load the Cora dataset\n",
        "#dataset = Planetoid(root='/tmp/Cora', name='Cora')\n",
        "#data = dataset[0]  # The graph data object\n",
        "\n",
        "# Define the GNN encoder\n",
        "class GCNEncoder(torch.nn.Module):\n",
        "    def __init__(self, in_channels, hidden_channels,output_channels):\n",
        "        super().__init__()\n",
        "        self.conv1 = GCNConv(in_channels, hidden_channels)\n",
        "        #self.conv2 = GCNConv(hidden_channels, hidden_channels)\n",
        "        self.conv2 = GCNConv(hidden_channels, output_channels)\n",
        "        self.conv3 = GCNConv(hidden_channels, output_channels)\n",
        "\n",
        "\n",
        "    def forward(self, x, edge_index):\n",
        "\n",
        "        x = F.relu(self.conv1(x, edge_index))\n",
        "        x = F.dropout(x, p=0.2, training=self.training)\n",
        "\n",
        "        x = self.conv2(x, edge_index)\n",
        "        return x\n",
        "        #x = F.relu(self.conv2(x, edge_index))\n",
        "        #x = F.dropout(x, p=0.2, training=self.training)\n",
        "        #return self.conv3(x, edge_index)#F.softmax(x,dim=1)   #\n",
        "\n",
        "if x.shape[1]>20:\n",
        "  embedding=x.shape[1]\n",
        "else:\n",
        "  embedding=2*x.shape[1]\n",
        "#embedding=x.shape[1]#20#12#x.shape[1] #13 for heart disease dataset\n",
        "embeddingout=32\n",
        "# Define the DGI model\n",
        "class DGI(torch.nn.Module):\n",
        "    def __init__(self, encoder):\n",
        "        super().__init__()\n",
        "        self.encoder = encoder\n",
        "        #self.discriminator = torch.nn.Bilinear(64, 64, 1)  # For 64-dimensional embeddings\n",
        "        self.discriminator = torch.nn.Bilinear(embedding,embedding,32)#embeddingout)#1)  # For 13-dimensional embeddings\n",
        "    def forward(self, x, edge_index, corrupt_x):\n",
        "        # Real embeddings\n",
        "        z = self.encoder(x, edge_index)\n",
        "        # Global embedding (mean pooling)\n",
        "        g = global_mean_pool(F.softmax(z,dim=1),batch=None)\n",
        "        # Corrupted embeddings\n",
        "        z_corrupt = self.encoder(corrupt_x, edge_index)\n",
        "        g = g.repeat(z.size(0), 1) # Repeat g to match z's batch dimension\n",
        "\n",
        "        # Discriminator scores\n",
        "        pos_score = self.discriminator(z, g)\n",
        "        neg_score = self.discriminator(z_corrupt, g)\n",
        "        return pos_score, neg_score\n",
        "\n",
        "\n"
      ]
    },
    {
      "cell_type": "code",
      "execution_count": null,
      "metadata": {
        "colab": {
          "base_uri": "https://localhost:8080/"
        },
        "id": "bVERveuqY7nb",
        "outputId": "3519872f-698d-4a32-bef3-5fc72a3e3654"
      },
      "outputs": [
        {
          "output_type": "stream",
          "name": "stdout",
          "text": [
            "Epoch 1, Loss: 112.8550\n",
            "Epoch 51, Loss: 5.0731\n",
            "Epoch 101, Loss: 4.6247\n",
            "Epoch 151, Loss: 1.9641\n",
            "Epoch 201, Loss: 1.9157\n",
            "Epoch 251, Loss: 1.4988\n",
            "Epoch 301, Loss: 1.6359\n",
            "Epoch 351, Loss: 1.2431\n",
            "Epoch 401, Loss: 1.2950\n",
            "Epoch 451, Loss: 1.2537\n",
            "Epoch 501, Loss: 1.2082\n",
            "Epoch 551, Loss: 1.2592\n",
            "Epoch 601, Loss: 1.3264\n",
            "Epoch 651, Loss: 1.2529\n",
            "Epoch 701, Loss: 1.2140\n",
            "Epoch 751, Loss: 1.1643\n",
            "Epoch 801, Loss: 1.2020\n",
            "Epoch 851, Loss: 1.2316\n",
            "Epoch 901, Loss: 1.1586\n",
            "Epoch 951, Loss: 1.2335\n",
            "Epoch 1001, Loss: 1.1872\n",
            "Epoch 1051, Loss: 1.1537\n",
            "Epoch 1101, Loss: 1.1973\n",
            "Epoch 1151, Loss: 1.1925\n",
            "Epoch 1201, Loss: 1.1887\n",
            "Epoch 1251, Loss: 1.1765\n",
            "Epoch 1301, Loss: 1.1632\n",
            "Epoch 1351, Loss: 1.1735\n",
            "Epoch 1401, Loss: 1.1929\n",
            "Epoch 1451, Loss: 1.1659\n"
          ]
        }
      ],
      "source": [
        "# Initialize DGI model\n",
        "hidden_channels=64\n",
        "output_channels = embedding #3 #x.shape[1]  # Dimensionality of embeddings\n",
        "#encoder = GCNEncoder(in_channels=dataset.num_node_features, hidden_channels=hidden_channels)\n",
        "encoder = GCNEncoder(in_channels=x.shape[1], hidden_channels=hidden_channels,output_channels=output_channels)\n",
        "dgi_model = DGI(encoder)\n",
        "optimizer = torch.optim.Adam(dgi_model.parameters(), lr=0.01)\n",
        "\n",
        "# Corruption function (shuffle node features)\n",
        "def corrupt_features(x):\n",
        "    #option1:\n",
        "    return x[torch.randperm(x.size(0))]\n",
        "\n",
        "    #option2: no corruption trivial case. No learning\n",
        "    #return x\n",
        "\n",
        "    #Option 3: add some noise from St.N Distr.\n",
        "    #return x+0.01*torch.randn(x.size(0), x.size(1))\n",
        "\n",
        "    #Option4 return x[torch.randperm(x.size(0))]\n",
        "    #random_matrix = torch.randn(x.size(1), out_dim)\n",
        "    #return x @ random_matrix\n",
        "\n",
        "    #Option 5:\n",
        "    #drop_ratio = 0.2\n",
        "    #mask = torch.rand(x.size(1)) > drop_ratio\n",
        "    #return x * mask\n",
        "\n",
        "    #Option 6:\n",
        "    #stdd=1#0.05\n",
        "    #meann=0\n",
        "   # noise = torch.randn_like(x) * stdd + meann\n",
        "    #return x + noise\n",
        "\n",
        "\n",
        "# Contrastive loss\n",
        "def dgi_loss(pos_score, neg_score):\n",
        "    pos_loss = -F.logsigmoid(pos_score).mean()\n",
        "    neg_loss = -F.logsigmoid(-neg_score).mean()\n",
        "    '''pos_labels = torch.ones_like(pos_score)\n",
        "    neg_labels = torch.zeros_like(neg_score)\n",
        "    pos_loss = F.binary_cross_entropy_with_logits(pos_score, pos_labels)\n",
        "    neg_loss = F.binary_cross_entropy_with_logits(neg_score, neg_labels)'''\n",
        "    return pos_loss + neg_loss\n",
        "\n",
        "# Training loop\n",
        "for epoch in range(1500):\n",
        "    dgi_model.train()\n",
        "    optimizer.zero_grad()\n",
        "    corrupt_x = corrupt_features(data.x)\n",
        "    pos_score, neg_score = dgi_model(data.x, data.edge_index, corrupt_x)\n",
        "    loss = dgi_loss(pos_score, neg_score)\n",
        "    #loss.backward()\n",
        "    loss.backward(retain_graph=True)\n",
        "    optimizer.step()\n",
        "    if epoch % 50 == 0:\n",
        "      print(f'Epoch {epoch+1}, Loss: {loss:.4f}')\n",
        "\n",
        "# Extract embeddings\n",
        "dgi_model.eval()\n",
        "with torch.no_grad():\n",
        "  z = dgi_model.encoder(data.x, data.edge_index)  # Improved embeddings\n",
        "\n"
      ]
    },
    {
      "cell_type": "code",
      "execution_count": null,
      "metadata": {
        "colab": {
          "base_uri": "https://localhost:8080/",
          "height": 53
        },
        "id": "_pzTWqPLoa9G",
        "outputId": "d144c071-ec4c-4b19-f9b8-8bc28e37fd6a"
      },
      "outputs": [
        {
          "output_type": "stream",
          "name": "stdout",
          "text": [
            "(906, 16)\n"
          ]
        },
        {
          "output_type": "execute_result",
          "data": {
            "text/plain": [
              "'scaler = StandardScaler()\\ntrain_data = scaler.fit_transform(train_data)\\ntest_data = scaler.transform(test_data)'"
            ],
            "application/vnd.google.colaboratory.intrinsic+json": {
              "type": "string"
            }
          },
          "metadata": {},
          "execution_count": 74
        }
      ],
      "source": [
        "train_data=z[data.train_mask].detach().cpu().numpy()\n",
        "train_labels=data.y[data.train_mask].detach().cpu().numpy()\n",
        "test_data=z[data.test_mask].detach().cpu().numpy()\n",
        "test_labels=data.y[data.test_mask].detach().cpu().numpy()\n",
        "print(train_data.shape)\n",
        "# Standardize the data\n",
        "'''scaler = StandardScaler()\n",
        "train_data = scaler.fit_transform(train_data)\n",
        "test_data = scaler.transform(test_data)'''"
      ]
    },
    {
      "cell_type": "code",
      "execution_count": null,
      "metadata": {
        "colab": {
          "base_uri": "https://localhost:8080/",
          "height": 1000
        },
        "id": "38vQSuywdvgi",
        "outputId": "590ab269-9f60-441b-d8e2-fd4ec17df234"
      },
      "outputs": [
        {
          "output_type": "stream",
          "name": "stdout",
          "text": [
            "[   6.7156854   113.20765      66.159256    -39.90704      29.571133\n",
            "  297.32108      94.26587     -44.179047    -36.769066    -65.387054\n",
            "  -60.805492   -216.66896      -0.96653914    5.3302264    25.010216\n",
            "  -94.27596   ]\n",
            "[  -2.441556  -48.223366  -17.512571   -5.910982  -25.72957  -176.61156\n",
            "    8.301766   14.331568   31.691456   15.625001    4.181266   57.51917\n",
            "   19.915058   35.23923   106.90925   119.26402 ]\n",
            "[   0.90228647   73.077965     38.27937     -30.4128       15.707461\n",
            "  172.24323      85.2813      -16.289997     -1.7593518   -51.404167\n",
            "  -35.577366   -192.57207      14.273999     22.531815    109.595116\n",
            "  -14.321891  ]\n",
            "[   3.5182793   74.70569     31.028399   -10.142218    15.641307\n",
            "  222.81087     46.03371    -29.540237   -26.475042   -26.307756\n",
            "  -23.21588   -118.48768     -2.9455671  -18.065153    -6.2361684\n",
            "  -96.57283  ]\n",
            "[ -23.271154  -48.628086  -44.995907   17.574297  -23.352705 -163.92688\n",
            "   23.913414   70.100815   81.470276   10.978119   52.922947  -73.01261\n",
            "   51.650307   47.066437  292.7096    166.64084 ]\n",
            "[   1.9437861  -49.58667      2.3682706  -24.76712    -22.941147\n",
            " -181.08038      1.3427188  -11.375511     2.4544833   14.373032\n",
            "  -16.526756   120.603386     3.3516734   28.674797    24.106447\n",
            "   90.53607  ]\n",
            "[  7.9450006  62.693123   14.603653    9.897387    1.5194257 159.63333\n",
            "  21.027569  -16.076326  -28.34348   -18.148146    9.381522  -43.160072\n",
            "  -1.4440087 -19.704004  -25.403488  -75.77632  ]\n",
            "[  4.9660597  36.828526    1.1384056  19.720766    2.3658721  94.8529\n",
            " -14.358303   -7.8686113 -19.486631  -19.235228   26.539331   10.741407\n",
            "   4.958014  -20.028605  -25.822481  -50.44923  ]\n",
            "[-10.054156  -40.158543   22.670576  -22.188694  -21.814516  -94.40648\n",
            " -13.602791  -30.47045    -3.4444237   6.093686  -12.559975  119.73905\n",
            "  -3.7316244  -2.1980097 -10.332961    9.589455 ]\n",
            "[-11.389006   -10.863263     1.5554613   -3.038196    -8.002256\n",
            "   2.2807267  -31.133083   -18.062613     0.36608964 -16.781164\n",
            "  15.74654     61.327908     5.9788866  -21.445515   -14.4268265\n",
            " -24.328772  ]\n",
            "[  -4.542577   -48.035545    25.616207   -25.857607   -24.83822\n",
            " -134.2742      -7.4197197  -27.739048   -11.173657     9.228388\n",
            "  -21.127707   135.47623     -8.954291    12.590642   -12.928223\n",
            "   37.14207  ]\n",
            "[  9.571283    54.885525     4.978146    16.823532    -0.7408445\n",
            " 130.72655      3.124902    -8.33647    -26.433826   -20.343845\n",
            "  24.116968    -8.801447     0.78600013 -21.80227    -29.154911\n",
            " -62.045303  ]\n",
            "[ -3.3150961   13.800187    -0.55104184  13.740893    -0.2719598\n",
            "  58.960457   -31.788414   -10.902148   -10.295424   -19.685019\n",
            "  25.710312    26.470856     6.587282   -17.16282    -19.449774\n",
            " -37.516716  ]\n",
            "[-12.159925  -28.641556   11.875455  -14.517474  -15.720748  -52.624466\n",
            " -21.92746   -25.90339     1.7121463  -4.9689894   1.2058564  94.69349\n",
            "   2.9569483 -13.803316   -9.987589   -6.9523168]\n",
            "[  6.143491   68.55295    22.622063    0.6580992   8.727854  191.7945\n",
            "  34.43038   -22.737312  -27.50505   -21.358906   -7.27494   -80.6361\n",
            "  -2.9100068 -19.358671  -17.069986  -86.42896  ]\n",
            "[   2.1382718   91.33431     48.442986   -20.863237    22.792536\n",
            "  259.82883     64.41661    -32.994015   -34.3375     -41.98055\n",
            "  -39.494957  -165.205       -2.3033204   -6.935622     9.134943\n",
            "  -97.9489   ]\n",
            "Adjusted Rand Index: 0.0003\n"
          ]
        },
        {
          "output_type": "display_data",
          "data": {
            "text/plain": [
              "<Figure size 800x600 with 1 Axes>"
            ],
            "image/png": "[encoded data removed]"
          },
          "metadata": {}
        }
      ],
      "source": [
        "n_clusters=16\n",
        "# Apply k-means clustering\n",
        "'''kmeans = KMeans(n_clusters=n_clusters, random_state=0)  # 7 clusters for 7 topics\n",
        "#clusters = kmeans.fit_predict(z.detach().cpu().numpy())\n",
        "clusters = kmeans.fit_predict(train_data)\n",
        "\n",
        "#clusters = kmeans.fit_predict(x)\n",
        "centers = torch.tensor(kmeans.cluster_centers_, dtype=torch.float32)\n",
        "n_centers=centers.shape[0]\n",
        "OrgCenters=centers'''\n",
        "\n",
        "\n",
        "#For spectral clustering\n",
        "n_centers=n_clusters\n",
        "clustering_tr = SpectralClustering(n_clusters=n_centers,assign_labels='cluster_qr',affinity='nearest_neighbors' ,random_state=0).fit(train_data)\n",
        "#clustering_tr = SpectralClustering(n_clusters=n_centers,assign_labels='cluster_qr',affinity='nearest_neighbors' ,random_state=0).fit(z.detach().cpu().numpy())\n",
        "#clustering_tr = SpectralClustering(n_clusters=n_centers,assign_labels='cluster_qr',affinity='nearest_neighbors' ,random_state=0).fit(x)\n",
        "clusters = clustering_tr.labels_ # torch.tensor(clustering_tr.labels_, dtype=torch.float32)\n",
        "ceee=np.zeros((n_centers,z.detach().cpu().numpy().shape[1]))\n",
        "for ndx in range(n_centers):\n",
        "  #cen=z.detach().cpu().numpy()[clustering_tr.labels_ == ndx]\n",
        "  cen=train_data[clustering_tr.labels_ == ndx]\n",
        "  print(cen.mean(axis=0))\n",
        "  ceee[ndx]=cen.mean(axis=0)\n",
        "centers=torch.tensor(ceee, dtype=torch.float32)\n",
        "n_centers=centers.shape[0]\n",
        "OrgCenters=centers\n",
        "\n",
        "# Evaluate clustering (optional, if labels are available)\n",
        "#ari = adjusted_rand_score(data.y.cpu().numpy(), clusters)\n",
        "ari = adjusted_rand_score(train_labels, clusters)\n",
        "print(f'Adjusted Rand Index: {ari:.4f}')\n",
        "\n",
        "# Visualize the clusters\n",
        "pca = PCA(n_components=2)\n",
        "#z_2d = pca.fit_transform(z.detach().cpu().numpy())\n",
        "z_2d = pca.fit_transform(train_data)\n",
        "plt.figure(figsize=(8, 6))\n",
        "for i in range(n_clusters):  # Assuming 7 clusters\n",
        "    plt.scatter(z_2d[clusters == i, 0], z_2d[clusters == i, 1], label=f'Cluster {i}')\n",
        "plt.legend()\n",
        "plt.title('Improved Node Clusters in 2D Embedding Space')\n",
        "plt.show()"
      ]
    },
    {
      "cell_type": "code",
      "execution_count": null,
      "metadata": {
        "colab": {
          "base_uri": "https://localhost:8080/",
          "height": 106
        },
        "id": "B22vWJ20-4CU",
        "outputId": "82845172-3c22-4686-d5c6-a673db9f9688"
      },
      "outputs": [
        {
          "output_type": "error",
          "ename": "SyntaxError",
          "evalue": "unterminated string literal (detected at line 12) (ipython-input-79-536022770.py, line 12)",
          "traceback": [
            "\u001b[0;36m  File \u001b[0;32m\"/tmp/ipython-input-79-536022770.py\"\u001b[0;36m, line \u001b[0;32m12\u001b[0m\n\u001b[0;31m    clusters = clustering_tr.labels_ # torch.tensor(clustering_tr.labels_, dtype=torch.float32)''''\u001b[0m\n\u001b[0m                                                                                                  ^\u001b[0m\n\u001b[0;31mSyntaxError\u001b[0m\u001b[0;31m:\u001b[0m unterminated string literal (detected at line 12)\n"
          ]
        }
      ],
      "source": [
        "# Apply k-means clustering\n",
        "''''kmeans = KMeans(n_clusters=n_clusters, random_state=0)  # 7 clusters for 7 topics\n",
        "clusters = kmeans.fit_predict(z.detach().cpu().numpy())\n",
        "centers = torch.tensor(kmeans.cluster_centers_, dtype=torch.float32)\n",
        "n_centers=centers.shape[0]''''\n",
        "\n",
        "#For spectral clustering on TRAINING SET ONLY\n",
        "n_centers=n_clusters\n",
        "#clustering_tr = SpectralClustering(n_clusters=n_centers,assign_labels='cluster_qr',affinity='nearest_neighbors' ,random_state=0).fit(z.detach().cpu().numpy())\n",
        "clustering_tr = SpectralClustering(n_clusters=n_centers,assign_labels='cluster_qr',affinity='nearest_neighbors' ,random_state=0).fit(train_data)\n",
        "#clustering_tr = SpectralClustering(n_clusters=n_centers,assign_labels='cluster_qr',affinity='nearest_neighbors' ,random_state=0).fit(x)\n",
        "clusters = clustering_tr.labels_ # torch.tensor(clustering_tr.labels_, dtype=torch.float32)\n",
        "ceee=np.zeros((n_centers,z.detach().cpu().numpy().shape[1]))\n",
        "for ndx in range(n_centers):\n",
        "  #cen=z.detach().cpu().numpy()[clustering_tr.labels_ == ndx]\n",
        "  cen=train_data[clustering_tr.labels_ == ndx]\n",
        "  print(cen.mean(axis=0))\n",
        "  ceee[ndx]=cen.mean(axis=0)\n",
        "centers=torch.tensor(ceee, dtype=torch.float32)\n",
        "n_centers=centers.shape[0]\n",
        "OrgCenters=centers\n",
        "\n",
        "# Evaluate clustering (optional, if labels are available)\n",
        "#ari = adjusted_rand_score(data.y.cpu().numpy(), clusters)\n",
        "ari = adjusted_rand_score(train_labels, clusters)\n",
        "print(f'Adjusted Rand Index: {ari:.4f}')\n",
        "\n",
        "# Visualize the clusters\n",
        "pca = PCA(n_components=2)\n",
        "#z_2d = pca.fit_transform(z.detach().cpu().numpy())\n",
        "z_2d = pca.fit_transform(train_data)\n",
        "\n",
        "plt.figure(figsize=(8, 6))\n",
        "for i in range(n_clusters):  # Assuming 7 clusters\n",
        "    plt.scatter(z_2d[clusters == i, 0], z_2d[clusters == i, 1], label=f'Cluster {i}')\n",
        "plt.legend()\n",
        "plt.title('Improved Node Clusters in 2D Embedding Space')\n",
        "plt.show()"
      ]
    },
    {
      "cell_type": "code",
      "execution_count": null,
      "metadata": {
        "id": "fxl4FEYX9lCl"
      },
      "outputs": [],
      "source": [
        "print(torch.randn(x.size(0), x.size(1)))"
      ]
    },
    {
      "cell_type": "code",
      "execution_count": null,
      "metadata": {
        "id": "BIinA2teY7lU"
      },
      "outputs": [],
      "source": []
    },
    {
      "cell_type": "code",
      "execution_count": null,
      "metadata": {
        "id": "d3HrgU6pK0wJ"
      },
      "outputs": [],
      "source": [
        "import matplotlib.pyplot as plt\n",
        "import networkx as nx\n",
        "import torch\n",
        "import numpy as np\n",
        "from torch_geometric.utils import to_networkx\n",
        "\n",
        "# Assuming you have 'data', 'model', and 'num_nodes' defined\n",
        "\n",
        "# Create the first graph (G)\n",
        "G = to_networkx(data, to_undirected=True)\n",
        "node_colors_G = ['red' if data.y[i].item() == 0 else 'blue' for i in range(num_nodes)]\n",
        "\n",
        "#dgi_model.eval()\n",
        "#z = dgi_model.encoder(data.x, data.edge_index)  # Improved embeddings\n",
        "# Create the second graph (G_pred)\n",
        "#out = model(data.x, data.edge_index)\n",
        "pred = z.argmax(dim=1)\n",
        "#pred = train_data.argmax(dim=1)\n",
        "# Create a PyG Data object\n",
        "data_refined = Data(x=z, edge_index=edge_index, y=y)\n",
        "#data=dataset[0]\n",
        "G_pred = to_networkx(data_refined, to_undirected=True)\n",
        "#node_colors_G_pred = ['red' if pred[i] == 0 else 'blue' for i in range(num_nodes)]\n",
        "\n",
        "\n",
        "#For spectral clustering on WHOLE Z(training and testing)\n",
        "n_centers=n_clusters\n",
        "clustering_trZ = SpectralClustering(n_clusters=n_centers,assign_labels='cluster_qr',affinity='nearest_neighbors' ,random_state=0).fit(z.detach().cpu().numpy())\n",
        "#clustering_tr = SpectralClustering(n_clusters=n_centers,assign_labels='cluster_qr',affinity='nearest_neighbors' ,random_state=0).fit(train_data)\n",
        "#clustering_tr = SpectralClustering(n_clusters=n_centers,assign_labels='cluster_qr',affinity='nearest_neighbors' ,random_state=0).fit(x)\n",
        "clustersZ = clustering_trZ.labels_ # torch.tensor(clustering_tr.labels_, dtype=torch.float32)\n",
        "\n",
        "# Create a figure and subplots\n",
        "fig, axes = plt.subplots(1, 2, figsize=(6, 4))  # 1 row, 2 columns\n",
        "\n",
        "# Plot the first graph on the first subplot\n",
        "nx.draw(G, with_labels=False, node_color=node_colors_G, node_size=10, edge_color='gray', ax=axes[0])\n",
        "axes[0].set_title('Original Graph (G)')\n",
        "\n",
        "nx.draw(G_pred, with_labels=False, node_color=node_colors_G, node_size=10, edge_color='gray', ax=axes[1])\n",
        "axes[1].set_title('Refined Graph (G)')\n",
        "plt.show()\n",
        "\n",
        "\n",
        "cluster_colors = ['red', 'blue', 'green', 'yellow', 'pink','orange', 'purple','brown'] #'lime', 'orchid', 'gold', 'teal'\n",
        "cluster_colors = ['red', 'blue', 'green', 'yellow', 'pink','orange', 'purple','brown','black','magenta','violet','skyblue','cyan','lime', 'orchid', 'gold'] # One color per cluster\n",
        "\n",
        "node_colors_G_predicted = [cluster_colors[label] for label in clustersZ]\n",
        "\n",
        "\n",
        "# Display Full Graph Structure (NOT OF THE TRAINED SUB_GRAPH)\n",
        "\n",
        "plt.figure(figsize=(5, 4))\n",
        "nx.draw(G, with_labels=False, node_color='blue', node_size=10, edge_color='gray')\n",
        "nx.draw(G_pred, with_labels=False, node_color=node_colors_G_predicted, node_size=10, edge_color='none',ax=plt.gca())\n",
        "#plt.gca().set_title('Learned Graph Representation')\n",
        "plt.show()"
      ]
    },
    {
      "cell_type": "code",
      "execution_count": null,
      "metadata": {
        "id": "0IaWHxO_HB36"
      },
      "outputs": [],
      "source": [
        "###TRIED TO SEE CLUSTERED GRAPH ON TRAINED DATA ONLY NOT WORKING\n",
        "\n",
        "#data_refined is the graph on Z data defined in previous cell\n",
        "'''data_refined.train_mask = train_mask\n",
        "data_refined.test_mask = test_mask\n",
        "\n",
        "from torch_geometric.utils import to_networkx, subgraph\n",
        "train_node_indices = torch.nonzero(data_refined.train_mask).squeeze()\n",
        "\n",
        "# Extract the subgraph using the train_node_indices\n",
        "edge_index_subgraph, _ = subgraph(train_node_indices, data_refined.edge_index)\n",
        "\n",
        "# Create a new Data object for the subgraph\n",
        "data_subgraph = Data(x=data_refined.x[train_node_indices],\n",
        "                    edge_index=edge_index_subgraph,\n",
        "                    y=data_refined.y[train_node_indices])\n",
        "\n",
        "# Convert the subgraph to a NetworkX graph\n",
        "G_train_mask = to_networkx(data_subgraph, to_undirected=True)\n",
        "\n",
        "#For spectral clustering on WHOLE Z(training part ONLY)\n",
        "n_centers=n_clusters\n",
        "clustering_trT = SpectralClustering(n_clusters=n_centers,assign_labels='cluster_qr',affinity='nearest_neighbors' ,random_state=0).fit(z[train_mask].detach().cpu().numpy())\n",
        "#clustering_tr = SpectralClustering(n_clusters=n_centers,assign_labels='cluster_qr',affinity='nearest_neighbors' ,random_state=0).fit(train_data)\n",
        "#clustering_tr = SpectralClustering(n_clusters=n_centers,assign_labels='cluster_qr',affinity='nearest_neighbors' ,random_state=0).fit(x)\n",
        "clustersT = clustering_trT.labels_ # torch.tensor(clustering_tr.labels_, dtype=torch.float32)\n",
        "\n",
        "# Color nodes based on their cluster labels within the subgraph\n",
        "#node_colors_G_train_mask = [cluster_colors[label] for label in range(clusters_subgraph)]\n",
        "node_colors_G_train_mask = [cluster_colors[label] for label in clustersT]#[train_node_indices]]  # Color nodes based on their cluster labels\n",
        "# Get node colors for the subgraph\n",
        "\n",
        "# ... (rest of your code for visualization) ...\n",
        "\n",
        "# Plot the subgraph for train_mask\n",
        "plt.figure(figsize=(5, 4))\n",
        "nx.draw(G_train_mask, with_labels=False, node_color=node_colors_G_train_mask,\n",
        "        node_size=10, edge_color='gray', ax=plt.gca())\n",
        "plt.gca().set_title('Graph Structure for train_mask Data')\n",
        "plt.show()'''"
      ]
    },
    {
      "cell_type": "code",
      "execution_count": null,
      "metadata": {
        "id": "97xApn8zpGBS"
      },
      "outputs": [],
      "source": [
        "print(data_refined.x.shape)\n",
        "print(data.x.shape)"
      ]
    },
    {
      "cell_type": "code",
      "execution_count": null,
      "metadata": {
        "id": "HCpN7RmqyJoG"
      },
      "outputs": [],
      "source": [
        "centers.shape"
      ]
    },
    {
      "cell_type": "code",
      "execution_count": null,
      "metadata": {
        "id": "E41MrwGu0UA3"
      },
      "outputs": [],
      "source": [
        "for i in range(n_centers):\n",
        "    print(f\"Center {i} (label {i}): {centers[i]}\")"
      ]
    },
    {
      "cell_type": "code",
      "execution_count": null,
      "metadata": {
        "id": "jC5fiHntSeL-"
      },
      "outputs": [],
      "source": [
        "# Assuming `centers` is your tensor of cluster centers and `labels` is the array of labels\n",
        "centers=OrgCenters\n",
        "\n",
        "for i in range(n_centers):\n",
        "    print(f\"Center {i} (label {i}): {centers[i]}\")\n"
      ]
    },
    {
      "cell_type": "code",
      "execution_count": null,
      "metadata": {
        "id": "KuqSKE33wC0u"
      },
      "outputs": [],
      "source": [
        "# Split the dataset into training and testing sets\n",
        "#x=z #.detach().cpu().numpy()\n",
        "'''X_train, X_test, y_train, y_test = train_test_split(z.detach().cpu().numpy(), y, test_size=0.3, random_state=0)\n",
        "scaler = StandardScaler()\n",
        "X_train_st = scaler.fit_transform(X_train)\n",
        "X_test_st = scaler.transform(X_test)'''\n",
        "\n",
        "X_train_st=torch.tensor(train_data, dtype=torch.float32)\n",
        "X_test_st=torch.tensor(test_data, dtype=torch.float32)\n",
        "y_train = torch.tensor(train_labels, dtype=torch.float32)\n",
        "y_test = torch.tensor(test_labels, dtype=torch.float32)\n",
        "\n",
        "\n",
        "'''X_train, X_test, y_train, y_test = train_test_split(z.detach().cpu().numpy(), y, test_size=0.3, random_state=0)'''\n",
        "\n",
        "# Standardize the data\n",
        "# Convert data to PyTorch tensors\n",
        "'''X_train_st = torch.tensor(X_train_st, dtype=torch.float32)\n",
        "X_test_st = torch.tensor(X_test_st, dtype=torch.float32)\n",
        "y_train = torch.tensor(y_train, dtype=torch.float32)\n",
        "y_test = torch.tensor(y_test, dtype=torch.float32)'''\n",
        "# Check the shapes of the tensors\n",
        "print(X_train_st.shape, y_train.shape)\n",
        "print(X_test_st.shape, y_test.shape)"
      ]
    },
    {
      "cell_type": "code",
      "execution_count": null,
      "metadata": {
        "id": "BknInwu6JNeB"
      },
      "outputs": [],
      "source": [
        "print(z[1,:])\n",
        "print(x[1,:])"
      ]
    },
    {
      "cell_type": "code",
      "execution_count": null,
      "metadata": {
        "id": "B1ET4q_riMZw"
      },
      "outputs": [],
      "source": [
        "import numpy as np\n",
        "lam_wt=np.linspace(1e-10,1e-5,20)\n",
        "lam_cen=np.linspace(1e-10,1e-5,20)\n",
        "for i,j in zip(lam_wt,lam_cen):\n",
        "  print(i,j)"
      ]
    },
    {
      "cell_type": "code",
      "execution_count": null,
      "metadata": {
        "id": "SExUYinri1Ca"
      },
      "outputs": [],
      "source": [
        "batch_size = 128\n",
        "step_size = 0.01  #learning rate\n",
        "\n",
        "# Create data loaders\n",
        "train_dataset = TensorDataset(X_train_st, y_train)\n",
        "train_loader = DataLoader(train_dataset, batch_size=batch_size, shuffle=True)\n",
        "\n",
        "bestTest_acc=0\n",
        "bestTrain_acc=0\n",
        "best_wtReg=0\n",
        "best_cenReg=0\n",
        "n_epochs =2000\n",
        "Acc_list=[]\n",
        "wtReg_list=[]\n",
        "cenReg_list=[]\n",
        "Acc_listSimples=[]\n",
        "learnable_centers=True\n",
        "gaussian_reg=1e-2\n",
        "lam_wt=np.linspace(1e-10,1e-5,5)\n",
        "lam_cen=np.linspace(1e-10,1e-5,5)\n",
        "biasReg=1e-2\n",
        "counter=0\n",
        "for weights_reg,centers_reg in zip(lam_wt,lam_cen):\n",
        "  counter=counter+1\n",
        "  centerss=torch.tensor(OrgCenters,dtype=torch.float32)\n",
        "  # Create the Gaussian RBF network\n",
        "  model = GaussianRBFNetworkC(gaussian_regularizer=gaussian_reg, centers_regularizer=centers_reg,\n",
        "                            weights_regularizer=weights_reg, learnable_centers=learnable_centers, centers=centerss,\n",
        "                            device='cpu')\n",
        "  #model = GaussianRBFNetworkCBias(gaussian_regularizer=gaussian_reg, centers_regularizer=centers_reg,\n",
        "  #                          weights_regularizer=weights_reg, bias_regularizer=biasReg, learnable_centers=learnable_centers, centers=centerss,\n",
        "  #                          device='cpu')\n",
        "\n",
        "\n",
        "  # Training loop\n",
        "  optimizer = GCAdam(model.parameters(), lr=step_size) #GCAdam(model.parameters(), lr=step_size)\n",
        "\n",
        "  for epoch in range(n_epochs):\n",
        "      model.train()\n",
        "      epoch_loss = 0.0\n",
        "      for batch_X, batch_y in train_loader:\n",
        "          optimizer.zero_grad()\n",
        "          y_hat = model(batch_X)\n",
        "          loss = model.evaluate_loss(batch_y, y_hat)\n",
        "          loss.backward()\n",
        "          optimizer.step()\n",
        "          epoch_loss += loss.item()\n",
        "\n",
        "      if epoch % 500 == 0:\n",
        "          print(f'Iter No : {counter}, Epoch {epoch}, Loss: {epoch_loss / len(train_loader)}')\n",
        "  # Evaluate the model\n",
        "  model.eval()\n",
        "  with torch.no_grad():\n",
        "      #y_train_pred = np.round(model(X_train_st).numpy(),1)>=0.5 #0.4#0.5\n",
        "      #y_test_pred = np.round (model(X_test_st).numpy(),1) >=0.5#0.4# 0.5\n",
        "      y_train_pred = model(X_train_st).numpy()>0.5 #0.4#0.5\n",
        "      y_test_pred = model(X_test_st).numpy() >0.5#0.4# 0.5\n",
        "\n",
        "  train_accuracy = accuracy_score(y_train.numpy(), y_train_pred)\n",
        "  test_accuracy = accuracy_score(y_test.numpy(), y_test_pred)\n",
        "  Acc_listSimples.append(test_accuracy)\n",
        "  #train_accuracy = accuracy_score(y_train, y_train_pred)\n",
        "  #test_accuracy = accuracy_score(y_test, y_test_pred)\n",
        "  #old accucracy\n",
        "  print(f'Simple Tr_Accu: {train_accuracy}, Simple Te_Acc: {test_accuracy}')\n",
        "  #th_train:{th_train},th_test:{th_test}')\n",
        "\n",
        "  model.eval()\n",
        "  with torch.no_grad():\n",
        "    predictions_train = model(X_train_st).detach().numpy()\n",
        "    predictions_test = model(X_test_st).detach().numpy()\n",
        "  threshold_optionn=1\n",
        "  th_train=threshold_option(y_train.numpy(),predictions_train,threshold_optionn)\n",
        "  th_test=threshold_option(y_test.numpy(),predictions_test,threshold_optionn)\n",
        "  #y_pred_train = binary_predictions(predictions_train)\n",
        "  #y_pred_test = binary_predictions(predictions_test)\n",
        "  y_pred_train = binary_predictions(predictions_train,th_train)#train_threshold)\n",
        "  y_pred_test = binary_predictions(predictions_test,th_test)#test_threshold)\n",
        "  # Calculate accuracy\n",
        "  train_accuracy = accuracy_score(y_train.numpy(), y_pred_train)\n",
        "  test_accuracy = accuracy_score(y_test.numpy(), y_pred_test)\n",
        "  print(f'TrTh Accu: {train_accuracy}, TeTh_Acc: {test_accuracy}, th_train:{th_train},th_test:{th_test}')\n",
        "  #print(f'Train Accuracy: {train_accuracy}')\n",
        "  #print(f'Test Accuracy: {test_accuracy}')\n",
        "\n",
        "  Acc_list.append(test_accuracy)\n",
        "  wtReg_list.append(weights_reg)\n",
        "  cenReg_list.append(centers_reg)\n",
        "\n",
        "  if test_accuracy>bestTest_acc:\n",
        "    bestTest_acc=test_accuracy\n",
        "    bestTrain_acc=train_accuracy\n",
        "    best_wtReg=weights_reg\n",
        "    best_cenReg=centers_reg\n",
        "    print(f'Best Tr Accu: {bestTrain_acc}, Best Te_Acc: {bestTest_acc}, c_reg: {best_cenReg}, w_reg:{best_wtReg}')\n",
        "Acc_Option=1\n",
        "for simple_acc,thresh_acc in zip(Acc_listSimples,Acc_list):\n",
        "  if simple_acc>bestTest_acc:\n",
        "    Acc_Option=0\n",
        "    break\n",
        "  if Acc_Option==1:\n",
        "    break"
      ]
    },
    {
      "cell_type": "code",
      "source": [
        "Acc_Option"
      ],
      "metadata": {
        "id": "3tPPfWOfve5g"
      },
      "execution_count": null,
      "outputs": []
    },
    {
      "cell_type": "code",
      "source": [
        "#test_f1 = f1_score(y_test.numpy(), y_pred_test.numpy())\n",
        "#print(test_f1)"
      ],
      "metadata": {
        "id": "j-GoXphqtE7N"
      },
      "execution_count": null,
      "outputs": []
    },
    {
      "cell_type": "code",
      "execution_count": null,
      "metadata": {
        "id": "w1SJiFH-YYvR"
      },
      "outputs": [],
      "source": [
        "if Acc_Option==0:\n",
        "  mean_accuracy = np.mean(Acc_listSimples)\n",
        "  idx_maxAcc = np.argmax(Acc_listSimples)\n",
        "  max_valueAcc = Acc_listSimples[idx_maxAcc]\n",
        "  max_valuewtReg = wtReg_list[idx_maxAcc]\n",
        "  max_valuecenReg = cenReg_list[idx_maxAcc]\n",
        "  print(f'Mean Accuracy Simple: {mean_accuracy}')\n",
        "  print(f'max_Acc Simple: {max_valueAcc}, max_wtReg: {max_valuewtReg}, max_cenReg: {max_valuecenReg}')\n",
        "else:\n",
        "  mean_accuracy = np.mean(Acc_list)\n",
        "  idx_maxAcc = np.argmax(Acc_list)\n",
        "  max_valueAcc = Acc_list[idx_maxAcc]\n",
        "  max_valuewtReg = wtReg_list[idx_maxAcc]\n",
        "  max_valuecenReg = cenReg_list[idx_maxAcc]\n",
        "  print(f'Mean Accuracy Threshold: {mean_accuracy}')\n",
        "  print(f'max_Acc Threshold: {max_valueAcc}, max_wtReg: {max_valuewtReg}, max_cenReg: {max_valuecenReg}')"
      ]
    },
    {
      "cell_type": "code",
      "execution_count": null,
      "metadata": {
        "id": "x0RB08pjGsAx"
      },
      "outputs": [],
      "source": [
        "print(f'Best Tr Accu: {bestTrain_acc}, Best Te_Acc: {bestTest_acc}, c_reg: {best_cenReg}, w_reg:{best_wtReg}')"
      ]
    },
    {
      "cell_type": "code",
      "execution_count": null,
      "metadata": {
        "id": "K3AyKXtYV42r"
      },
      "outputs": [],
      "source": [
        "learnable_centers=False\n",
        "gaussian_reg, centers_reg, weights_reg= 1e-2, None, 1e-5\n",
        "learnable_centers=True\n",
        "gaussian_reg, centers_reg, weights_reg= 1e-2, 1e-5, 1e-5\n",
        "#gaussian_reg, centers_reg, weights_reg= 1e-10, 1e-15, 1e-15\n",
        "#gaussian_reg, centers_reg, weights_reg= 1e-2, 7.9166875e-06, 7.9166875e-06\n",
        "#center_reg=max_valuecenReg\n",
        "#weight_reg=max_valuewtReg\n",
        "biasReg=0\n",
        "batch_size = 128\n",
        "step_size = 0.01  #learning rate\n",
        "centerss=torch.tensor(OrgCenters,dtype=torch.float32)\n",
        "model = GaussianRBFNetworkC(gaussian_regularizer=gaussian_reg, centers_regularizer=centers_reg,\n",
        "                            weights_regularizer=weights_reg, learnable_centers=learnable_centers, centers=centerss,\n",
        "                            device='cpu')\n",
        "#model = GaussianRBFNetworkCBias(gaussian_regularizer=gaussian_reg, centers_regularizer=centers_reg,\n",
        "#                            weights_regularizer=weights_reg, bias_regularizer=biasReg, learnable_centers=learnable_centers, centers=centerss,\n",
        "#                            device='cpu')\n",
        "# Create data loaders\n",
        "#train_dataset = TensorDataset(X_train_st, y_train)\n",
        "#train_loader = DataLoader(train_dataset, batch_size=batch_size, shuffle=True)\n",
        "# Training settings using GCADAM optimizer instead of ADAM\n",
        "optimizer = GCAdam(model.parameters(), lr=step_size) #GCAdam(model.parameters(), lr=step_size)\n",
        "\n",
        "##replace  with GCADAM\n",
        "n_epochs = 2000\n",
        "\n",
        "# Training loop\n",
        "for epoch in range(n_epochs):\n",
        "    model.train()\n",
        "    epoch_loss = 0.0\n",
        "    for batch_X, batch_y in train_loader:\n",
        "        optimizer.zero_grad()\n",
        "        y_hat = model(batch_X)\n",
        "        loss = model.evaluate_loss(batch_y, y_hat)\n",
        "        loss.backward()\n",
        "        optimizer.step()\n",
        "        epoch_loss += loss.item()\n",
        "\n",
        "    if epoch % 50 == 0:\n",
        "        print(f'Epoch {epoch}, Loss: {epoch_loss / len(train_loader)}')\n"
      ]
    },
    {
      "cell_type": "code",
      "execution_count": null,
      "metadata": {
        "id": "YzvbW_9I3F69"
      },
      "outputs": [],
      "source": [
        "\n",
        "print(model.weights_regularizer)\n",
        "print(model.gaussian_regularizer)\n",
        "print(model.centers_regularizer)\n",
        "#print(model.bias_regularizer)"
      ]
    },
    {
      "cell_type": "code",
      "execution_count": null,
      "metadata": {
        "id": "WQ0i3sK_WHPt"
      },
      "outputs": [],
      "source": [
        "# Evaluate the model\n",
        "model.eval()\n",
        "with torch.no_grad():\n",
        "    #y_train_pred = np.round(model(X_train_st).numpy(),1)>=0.5 #0.4#0.5\n",
        "    #y_test_pred = np.round (model(X_test_st).numpy(),1) >=0.5#0.4# 0.5\n",
        "    y_train_pred = model(X_train_st).numpy()>0.5 #0.4#0.5\n",
        "    y_test_pred = model(X_test_st).numpy() >0.5#0.4# 0.5\n",
        "\n",
        "train_accuracy = accuracy_score(y_train.numpy(), y_train_pred)\n",
        "test_accuracy = accuracy_score(y_test.numpy(), y_test_pred)\n",
        "\n",
        "#train_accuracy = accuracy_score(y_train, y_train_pred)\n",
        "#test_accuracy = accuracy_score(y_test, y_test_pred)\n",
        "#old accucracy\n",
        "print(f'Tr Accu Simple: {train_accuracy}, Te_Acc Simple: {test_accuracy}')\n",
        "\n",
        "model.eval()\n",
        "with torch.no_grad():\n",
        "  predictions_train = model(X_train_st).detach().numpy()#>0.5 #0.4#0.5\n",
        "  predictions_test = model(X_test_st).detach().numpy() #>0.5#0.4# 0.5\n",
        "threshold_optionn=Acc_Option\n",
        "th_train=threshold_option(y_train.numpy(),predictions_train,threshold_optionn)\n",
        "th_test=threshold_option(y_test.numpy(),predictions_test,threshold_optionn)\n",
        "#y_pred_train = binary_predictions(predictions_train)\n",
        "#y_pred_test = binary_predictions(predictions_test)\n",
        "y_pred_train = binary_predictions(predictions_train,th_train)#train_threshold)\n",
        "y_pred_test =torch.tensor(binary_predictions(predictions_test,th_test),dtype=torch.float32) #test_threshold)\n",
        "# Calculate accuracy\n",
        "train_accuracy = accuracy_score(y_train.numpy(), y_pred_train)\n",
        "test_accuracy = accuracy_score(y_test.numpy(), y_pred_test.numpy())\n",
        "print(f'TrTh Accu: {train_accuracy}, TeTh_Acc: {test_accuracy}')\n",
        "#print(f'Train Accuracy: {train_accuracy}')\n",
        "#print(f'Test Accuracy: {test_accuracy}')\n",
        "\n",
        "#from sklearn.inspection import DecisionBoundaryDisplay\n",
        "colr=[]\n",
        "for idx in range(y_pred_test.shape[0]):\n",
        "  if y_pred_test[idx]==0:\n",
        "    colr.append('purple')\n",
        "  else:\n",
        "    colr.append('yellow')\n",
        "\n",
        "#\n",
        "#plt.scatter(X_test[:, 3], X_test[:, 5], c=y_test,s=20, edgecolors=\"k\")\n",
        "\n",
        "plt.scatter(X_test_st[:, 0], X_test_st[:,1], c=y_test, s=30, edgecolors=\"k\")\n",
        "plt.show()\n",
        "plt.scatter(X_test_st[:, 0], X_test_st[:, 1], c=colr, s=30, edgecolors=\"k\")\n",
        "plt.show()"
      ]
    },
    {
      "cell_type": "code",
      "execution_count": null,
      "metadata": {
        "id": "L6c4p0mXdDhL"
      },
      "outputs": [],
      "source": [
        "y_pred_test.shape[0]"
      ]
    },
    {
      "cell_type": "code",
      "execution_count": null,
      "metadata": {
        "id": "zBiZ3S1dQW48"
      },
      "outputs": [],
      "source": [
        "print(y_pred_test,y_test, th_test, th_train)\n"
      ]
    },
    {
      "cell_type": "code",
      "execution_count": null,
      "metadata": {
        "id": "9iOb_1iHWkq9"
      },
      "outputs": [],
      "source": [
        "# Extract feature importance\n",
        "precision_matrix = model.compute_precision(model.precision_elements)\n",
        "feature_importance1, eigenvalues, eigenvectors = model.feature_importance(precision_matrix)"
      ]
    },
    {
      "cell_type": "code",
      "execution_count": null,
      "metadata": {
        "id": "ibKD7HExWmwC"
      },
      "outputs": [],
      "source": [
        "import matplotlib.pyplot as plt\n",
        "import numpy as np\n",
        "import seaborn as sns\n",
        "import torch\n",
        "\n",
        "# Example feature_importance (assuming it is a torch tensor from your model)\n",
        "# You need to replace this with actual feature importance from your model\n",
        "#feature_importance = torch.rand(13)  # Assuming 13 features in the heart dataset\n",
        "\n",
        "# Detach if required and convert to numpy array\n",
        "feature_importance = feature_importance1.detach().numpy()\n",
        "\n",
        "# Assuming X is the feature matrix and y is the target\n",
        "# Replace X and y with actual data from your heart dataset\n",
        "# For example, X_train, y_train from the split step\n",
        "mean_no_disease = X[y == 0].mean(axis=0)  # Mean of class '0' (no heart disease)\n",
        "mean_disease = X[y == 1].mean(axis=0)     # Mean of class '1' (heart disease)\n",
        "\n",
        "# Plot the feature importance and class means\n",
        "plt.figure(figsize=(18, 6))\n",
        "\n",
        "# Plot 1: Feature Importance as a bar plot\n",
        "plt.subplot(1, 3, 1)\n",
        "#plt.title(\"Feature Importance\")\n",
        "plt.bar(range(len(feature_importance)), feature_importance)\n",
        "plt.xlabel('Feature Index')\n",
        "plt.ylabel('Importance')\n",
        "plt.xticks(np.arange(len(feature_importance)))\n",
        "\n",
        "''''# Plot 2: Mean of Class '0' (No Heart Disease) as a heatmap\n",
        "plt.subplot(1, 3, 2)\n",
        "plt.title(\"Mean of Class '0' (No Heart Disease)\")\n",
        "sns.heatmap(mean_no_disease.reshape(1, -1), cmap='coolwarm', annot=True, cbar=True, xticklabels=X.shape[1])#data.columns[:-1])\n",
        "plt.yticks([])\n",
        "\n",
        "# Plot 3: Mean of Class '1' (Heart Disease) as a heatmap\n",
        "plt.subplot(1, 3, 3)\n",
        "plt.title(\"Mean of Class '1' (Heart Disease)\")\n",
        "sns.heatmap(mean_disease.reshape(1, -1), cmap='coolwarm', annot=True, cbar=True, xticklabels=X.shape[1])#data.columns[:-1])\n",
        "plt.yticks([])'''\n",
        "\n",
        "# Show the plots\n",
        "plt.tight_layout()\n",
        "plt.show()\n"
      ]
    },
    {
      "cell_type": "code",
      "execution_count": null,
      "metadata": {
        "id": "Uj3iZe8gW6Uc"
      },
      "outputs": [],
      "source": [
        "# Plot eigenvalues decay\n",
        "gammas = eigenvalues.detach().numpy()[::-1] # sort eigenvalues\n",
        "plt.figure(figsize=(8, 6))\n",
        "plt.plot(np.arange(1, len(gammas) + 1), gammas / np.sum(gammas), marker='o', linestyle='-',linewidth=2.5)\n",
        "plt.xlabel('$k$')\n",
        "#plt.title(\"Eigenvalues Decay\")\n",
        "plt.ylabel(r'$\\frac{\\gamma_k}{\\sum_k^K \\gamma_k}$')\n",
        "plt.tight_layout()\n",
        "plt.show()"
      ]
    },
    {
      "cell_type": "code",
      "execution_count": null,
      "metadata": {
        "id": "ju239FsyXSW4"
      },
      "outputs": [],
      "source": [
        "# Plot contours\n",
        "\n",
        "V = eigenvectors.detach().numpy()[:, ::-1] # sort eigenvectors\n",
        "Z = np.dot(X_test_st, V[:, :2]) # project data into the latent or active subspace defined by the top-2 eigenvectors\n",
        "\n",
        "lb1, ub1 = min(Z[:, 0]), max(Z[:, 1])\n",
        "lb2, ub2 = min(Z[:, 0]), max(Z[:, 1])\n",
        "xx1 = np.linspace(lb1, ub1, 100)\n",
        "xx2 = np.linspace(lb2, ub2, 100)\n",
        "\n",
        "XX1, XX2 = np.meshgrid(xx1, xx2)\n",
        "xx12 = np.vstack([XX1.ravel(), XX2.ravel()]).T\n",
        "xx12_back = np.dot(xx12, V[:, :2].T) # reproject back data from the active subspace so that we can evaluate the model\n",
        "xx12_back = torch.tensor(xx12_back, dtype=torch.float32)\n",
        "model.eval()\n",
        "with torch.no_grad():\n",
        "\n",
        "    #XX3 = (np.round(model(xx12_back).detach().numpy(),1)).reshape(XX1.shape) # obtan the model output\n",
        "#XX3 = (np.round(model(xx12_back).detach().numpy(),1)).reshape(XX1.shape) # obtan the model output\n",
        "  XX3 = (model(xx12_back).detach().numpy()>th_test).reshape(XX1.shape) # obtan the model output\n",
        "  #XX3 = (model(xx12_back).detach().numpy()>0.5).reshape(XX1.shape) # obtan the model output\n",
        "fig, ax = plt.subplots(figsize=(8, 6))\n",
        "# Plot centers\n",
        "#centers_projected = np.dot(model.centers.detach().numpy(), V[:, :2])\n",
        "\n",
        "contours = plt.contourf(XX1, XX2, XX3, cmap='plasma', levels=np.linspace(0, 1, 11))\n",
        "cbar = plt.colorbar(contours)\n",
        "cbar.set_label('Model output')\n",
        "cbar.set_ticks(np.linspace(0, 1, 11))\n",
        "\n",
        "plt.scatter(Z[:, 0], Z[:, 1], c=y_test, edgecolors='black')\n",
        "#plt.scatter(Z[:, 0], Z[:, 1], edgecolors='black')\n",
        "#plt.scatter(centers_projected[:, 0], centers_projected[:, 1], c='red', marker='x', label='Centers')\n",
        "ax.set_xlim(XX1.min(), XX1.max())\n",
        "ax.set_ylim(XX2.min(), XX2.max())\n",
        "\n",
        "ax.set_xlabel('$z_1$')\n",
        "ax.set_ylabel('$z_2$')\n",
        "#plt.title('Active Subspace in 2D')\n",
        "#plt.legend()\n",
        "plt.tight_layout()"
      ]
    },
    {
      "cell_type": "code",
      "execution_count": null,
      "metadata": {
        "id": "FZrlpPXy3dVl"
      },
      "outputs": [],
      "source": []
    },
    {
      "cell_type": "code",
      "execution_count": null,
      "metadata": {
        "id": "z52CIURcM-u2"
      },
      "outputs": [],
      "source": [
        "# Visualize the clusters\n",
        "\n",
        "Z = np.dot(X_test_st, V[:, :2])\n",
        "\n",
        "pca = PCA(n_components=2)\n",
        "z_2d = pca.fit_transform(Z)\n",
        "plt.figure(figsize=(8, 6))\n",
        "for i in range(2):  # Assuming 7 clusters\n",
        "    if i==0:\n",
        "        plt.scatter(z_2d[:,0], z_2d[:,1], c=(y_test==0), label=f'Label {0}')\n",
        "    else:\n",
        "      plt.scatter(z_2d[:,0], z_2d[:,1], c=(y_test==1), label=f'Label {1}')\n",
        "plt.legend()\n",
        "plt.title('Actual Node Clusters in 2D Embedding Space')\n",
        "plt.show()\n",
        "\n",
        "\n",
        "Z=torch.tensor(Z,dtype=torch.float32)\n",
        "\n",
        "y_test_prd = model(X_test_st).detach().numpy()>th_test#.reshape(XX1.shape)\n",
        "#th_test=0.5\n",
        "#pca = PCA(n_components=2)\n",
        "#z_2d = pca.fit_transform(XX3)\n",
        "plt.figure(figsize=(8, 6))\n",
        "for i in range(2):  # Assuming 7 clusters\n",
        "    if i==0:\n",
        "        plt.scatter(z_2d[:,0], z_2d[:,1], c=(y_test_prd<th_test), label=f'Label {0}')\n",
        "    else:\n",
        "      plt.scatter(z_2d[:,0], z_2d[:,1], c=(y_test_prd>th_test), label=f'Label {1}')\n",
        "plt.legend()\n",
        "plt.title('Predicted Node Clusters in 2D Embedding Space')\n",
        "plt.show()"
      ]
    },
    {
      "cell_type": "code",
      "execution_count": null,
      "metadata": {
        "id": "KLl9yt0V3dp4"
      },
      "outputs": [],
      "source": [
        "from matplotlib import cm\n",
        "from matplotlib.ticker import LinearLocator\n",
        "\n",
        "fig, ax = plt.subplots(subplot_kw={\"projection\": \"3d\"})\n",
        "if XX3.dtype == bool:                #added\n",
        "    XX3 = XX3.astype(float)          #added\n",
        "surf = ax.plot_surface(XX1, XX2, XX3, cmap=cm.coolwarm, linewidth=0, antialiased=False)\n",
        "\n",
        "# Customize the z axis.\n",
        "ax.set_zlim(XX3.min(), XX3.max())\n",
        "ax.set_xlim(XX1.min(), XX1.max())\n",
        "ax.set_ylim(XX2.min(), XX2.max())\n",
        "ax.zaxis.set_major_locator(LinearLocator(10))\n",
        "# A StrMethodFormatter is used automatically\n",
        "ax.zaxis.set_major_formatter('{x:.02f}')\n",
        "ax.set_xticks(())\n",
        "ax.set_yticks(())\n",
        "# Add a color bar which maps values to colors.\n",
        "fig.colorbar(surf, shrink=0.5, aspect=5)\n",
        "\n",
        "plt.show()"
      ]
    },
    {
      "cell_type": "code",
      "execution_count": null,
      "metadata": {
        "id": "aBbFtcIk2m08"
      },
      "outputs": [],
      "source": [
        "# Apply SVM Model\n",
        "from sklearn.svm import SVC\n",
        "from sklearn.metrics import accuracy_score\n",
        "svc=SVC()\n",
        "svc=SVC(kernel=\"rbf\", gamma=0.5, C=4.0)\n",
        "svc.fit(X_train_st, y_train)\n",
        "y_pred=svc.predict(X_test_st.detach().numpy())\n",
        "print('Model accuracy : {0:0.3f}'. format(accuracy_score(y_test.detach().numpy(), y_pred)))\n"
      ]
    },
    {
      "cell_type": "code",
      "execution_count": null,
      "metadata": {
        "id": "9Ilq2BH73D50"
      },
      "outputs": [],
      "source": [
        "plt.scatter(X_test_st[:, 2], X_test_st[:, 3], c=y_test, edgecolors='black')\n",
        "#plt.scatter(centers_projected[:, 0], centers_projected[:, 1], c='red', marker='x', label='Centers')\n",
        "\n",
        "ax.set_xlabel('$z_1$')\n",
        "ax.set_ylabel('$z_2$')\n",
        "plt.title('Active Subspace in 2D')\n",
        "#plt.legend()\n",
        "plt.tight_layout()"
      ]
    },
    {
      "cell_type": "code",
      "execution_count": null,
      "metadata": {
        "id": "WM8lmyE0DyOK"
      },
      "outputs": [],
      "source": [
        "# Plot contours\n",
        "\n",
        "V = eigenvectors.detach().numpy()[:, ::-1] # sort eigenvectors\n",
        "Z = np.dot(X_test_st, V[:, :2]) # project data into the latent or active subspace defined by the top-2 eigenvectors\n",
        "\n",
        "lb1, ub1 = min(Z[:, 0]), max(Z[:, 0])\n",
        "lb2, ub2 = min(Z[:, 1]), max(Z[:, 1])\n",
        "xx1 = np.linspace(lb1, ub1, 100)\n",
        "xx2 = np.linspace(lb2, ub2, 100)\n",
        "\n",
        "XX1, XX2 = np.meshgrid(xx1, xx2)\n",
        "xx12 = np.vstack([XX1.ravel(), XX2.ravel()]).T\n",
        "xx12_back = np.dot(xx12, V[:, :2].T) # reproject back data from the active subspace so that we can evaluate the model\n",
        "xx12_back = torch.tensor(xx12_back, dtype=torch.float32)\n",
        "\n",
        "#XX3 = (np.round(model(xx12_back).detach().numpy(),1)).reshape(XX1.shape) # obtan the model output\n",
        "XX3 = svc.predict(xx12_back).reshape(XX1.shape) # obtan the model output\n",
        "\n",
        "XX3 = svc.predict(xx12_back).reshape(XX1.shape) # obtan the model output\n",
        "\n",
        "fig, ax = plt.subplots(figsize=(8, 6))\n",
        "# Plot centers\n",
        "centers_projected = np.dot(model.centers.detach().numpy(), V[:, :2])\n",
        "\n",
        "contours = plt.contourf(XX1, XX2, XX3, cmap='viridis', levels=np.linspace(0, 1, 11))\n",
        "cbar = plt.colorbar(contours)\n",
        "cbar.set_label('Model output')\n",
        "cbar.set_ticks(np.linspace(0, 1, 11))\n",
        "\n",
        "plt.scatter(Z[:, 0], Z[:, 1], c=y_test, edgecolors='black')\n",
        "#plt.scatter(centers_projected[:, 0], centers_projected[:, 1], c='red', marker='x', label='Centers')\n",
        "\n",
        "ax.set_xlabel('$z_1$')\n",
        "ax.set_ylabel('$z_2$')\n",
        "plt.title('Active Subspace in 2D')\n",
        "plt.legend()\n",
        "plt.tight_layout()"
      ]
    },
    {
      "cell_type": "code",
      "execution_count": null,
      "metadata": {
        "id": "CXPRNwHRDr8B"
      },
      "outputs": [],
      "source": [
        "from matplotlib import cm\n",
        "from matplotlib.ticker import LinearLocator\n",
        "\n",
        "fig, ax = plt.subplots(subplot_kw={\"projection\": \"3d\"})\n",
        "surf = ax.plot_surface(XX1, XX2, XX3, cmap=cm.coolwarm, linewidth=0, antialiased=False)\n",
        "\n",
        "# Customize the z axis.\n",
        "ax.set_zlim(XX3.min(), XX3.max())\n",
        "ax.set_xlim(XX1.min(), XX1.max())\n",
        "ax.set_ylim(XX2.min(), XX2.max())\n",
        "ax.zaxis.set_major_locator(LinearLocator(10))\n",
        "# A StrMethodFormatter is used automatically\n",
        "ax.zaxis.set_major_formatter('{x:.02f}')\n",
        "ax.set_xticks(())\n",
        "ax.set_yticks(())\n",
        "# Add a color bar which maps values to colors.\n",
        "fig.colorbar(surf, shrink=0.5, aspect=5)\n",
        "\n",
        "plt.show()"
      ]
    }
  ]
}